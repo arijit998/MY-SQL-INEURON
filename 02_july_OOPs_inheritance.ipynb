{
  "nbformat": 4,
  "nbformat_minor": 0,
  "metadata": {
    "colab": {
      "provenance": []
    },
    "kernelspec": {
      "name": "python3",
      "display_name": "Python 3"
    },
    "language_info": {
      "name": "python"
    }
  },
  "cells": [
    {
      "cell_type": "markdown",
      "source": [
        "1. Explain what inheritance is in object-oriented programming and why it is used.\n",
        "\n",
        "basicaly we use one class's property in another class useing this concept.\n",
        "\n",
        "context is ,create relation between classes.\n"
      ],
      "metadata": {
        "id": "6L8cwgNGEWoz"
      }
    },
    {
      "cell_type": "markdown",
      "source": [
        "2.Discuss the concept of single inheritance and multiple inheritance, highlighting their\n",
        "differences and advantages.\n",
        "\n",
        "single inheritance:-there is one parent class and a chield class or sub class.\n",
        "\n",
        "adv:- we reuse the code and add new properties also.\n",
        "\n",
        "multiple inheritance:-there is multiple parent class and one subclass or chiled class.\n",
        "\n",
        "adv:-we can use more properties of parent class or base class.\n",
        "\n"
      ],
      "metadata": {
        "id": "cCirW474FHaF"
      }
    },
    {
      "cell_type": "markdown",
      "source": [
        "3.Explain the terms \"base class\" and \"derived class\" in the context of inheritance.\n",
        "\n",
        "base calss is parent class and devived class get properties from this base class also derived class having some properties."
      ],
      "metadata": {
        "id": "e3xY8zuP2rKk"
      }
    },
    {
      "cell_type": "code",
      "execution_count": null,
      "metadata": {
        "id": "GZ_EPAfIsfV5"
      },
      "outputs": [],
      "source": [
        "##base class##\n",
        "class base:\n",
        "  def show1(self):\n",
        "    print(\"this is base class\")\n",
        "\n",
        "##derived class##\n",
        "class derived(base):\n",
        "  def show2(self):\n",
        "    print(\"this is derived class\")"
      ]
    },
    {
      "cell_type": "code",
      "source": [
        "e=derived()"
      ],
      "metadata": {
        "id": "LvtyuxHe5zdR"
      },
      "execution_count": null,
      "outputs": []
    },
    {
      "cell_type": "code",
      "source": [
        "e.show1()"
      ],
      "metadata": {
        "colab": {
          "base_uri": "https://localhost:8080/"
        },
        "id": "Vglne9RX52Uf",
        "outputId": "6e48012c-930d-44bd-b8b8-da20cdb130b6"
      },
      "execution_count": null,
      "outputs": [
        {
          "output_type": "stream",
          "name": "stdout",
          "text": [
            "this is base class\n"
          ]
        }
      ]
    },
    {
      "cell_type": "code",
      "source": [
        "e.show2()"
      ],
      "metadata": {
        "colab": {
          "base_uri": "https://localhost:8080/"
        },
        "id": "3K-NwR1l54Th",
        "outputId": "4786edc7-7338-478c-e352-880ea4ecd964"
      },
      "execution_count": null,
      "outputs": [
        {
          "output_type": "stream",
          "name": "stdout",
          "text": [
            "this is derived class\n"
          ]
        }
      ]
    },
    {
      "cell_type": "markdown",
      "source": [
        "4. What is the significance of the \"protected\" access modifier in inheritance? How does\n",
        "it differ from \"private\" and \"public\" modifiers?\n",
        "\n",
        "protected means if we apply it is parent class only chield classes of it's\n",
        "use it only.\n",
        "\n",
        "public means any one can use it.\n",
        "\n",
        "private mean if we apply it in parent class then no chield class cant access with this name .\n",
        "\n",
        "for accessing this we use \"_parent clasaname__private variable\""
      ],
      "metadata": {
        "id": "i655J77R6KF9"
      }
    },
    {
      "cell_type": "code",
      "source": [
        "class a:\n",
        "  def __init__(self,public,protected,private):\n",
        "    self.public=public    #####public##\n",
        "    self._protected=protected      ###protected\n",
        "    self.__private=private       #######private"
      ],
      "metadata": {
        "id": "mcX8GPGB56NI"
      },
      "execution_count": null,
      "outputs": []
    },
    {
      "cell_type": "code",
      "source": [
        "class b(a):\n",
        "  def show(self):\n",
        "    print(\"chield\")"
      ],
      "metadata": {
        "id": "iFnlp0VGISDV"
      },
      "execution_count": null,
      "outputs": []
    },
    {
      "cell_type": "code",
      "source": [
        "z=b(\"public\",\"protected\",\"private\")"
      ],
      "metadata": {
        "id": "dpiaD07dISAQ"
      },
      "execution_count": null,
      "outputs": []
    },
    {
      "cell_type": "code",
      "source": [
        "z.show()"
      ],
      "metadata": {
        "colab": {
          "base_uri": "https://localhost:8080/"
        },
        "id": "axJEl0OBIRnv",
        "outputId": "9190b73f-a29e-4041-a443-0ce3e9071025"
      },
      "execution_count": null,
      "outputs": [
        {
          "output_type": "stream",
          "name": "stdout",
          "text": [
            "chield\n"
          ]
        }
      ]
    },
    {
      "cell_type": "code",
      "source": [
        "z.public"
      ],
      "metadata": {
        "colab": {
          "base_uri": "https://localhost:8080/",
          "height": 35
        },
        "id": "XfJ-U2kFInTo",
        "outputId": "16db1f7f-12c2-4cea-81f1-556d867a27a6"
      },
      "execution_count": null,
      "outputs": [
        {
          "output_type": "execute_result",
          "data": {
            "text/plain": [
              "'public'"
            ],
            "application/vnd.google.colaboratory.intrinsic+json": {
              "type": "string"
            }
          },
          "metadata": {},
          "execution_count": 12
        }
      ]
    },
    {
      "cell_type": "code",
      "source": [
        "z._protected"
      ],
      "metadata": {
        "colab": {
          "base_uri": "https://localhost:8080/",
          "height": 35
        },
        "id": "ZxCSEdizItqu",
        "outputId": "939dca28-b9a1-42b5-b141-f7d7f3bb1dd8"
      },
      "execution_count": null,
      "outputs": [
        {
          "output_type": "execute_result",
          "data": {
            "text/plain": [
              "'protected'"
            ],
            "application/vnd.google.colaboratory.intrinsic+json": {
              "type": "string"
            }
          },
          "metadata": {},
          "execution_count": 13
        }
      ]
    },
    {
      "cell_type": "code",
      "source": [
        "z._a__private"
      ],
      "metadata": {
        "colab": {
          "base_uri": "https://localhost:8080/",
          "height": 35
        },
        "id": "LeYPTq7WItnq",
        "outputId": "c9a533ec-dc2a-4730-d41c-68b0529f722a"
      },
      "execution_count": null,
      "outputs": [
        {
          "output_type": "execute_result",
          "data": {
            "text/plain": [
              "'private'"
            ],
            "application/vnd.google.colaboratory.intrinsic+json": {
              "type": "string"
            }
          },
          "metadata": {},
          "execution_count": 21
        }
      ]
    },
    {
      "cell_type": "markdown",
      "source": [
        "5.What is the purpose of the \"super\" keyword in inheritance? Provide an example.\n",
        "\n",
        "when method name is same at this this over riding  is an essue , to prevent this problem we use super() method.\n",
        "also we use in constructor's variable over rideing."
      ],
      "metadata": {
        "id": "I7260zbu9SvW"
      }
    },
    {
      "cell_type": "code",
      "source": [
        "class a:\n",
        "  def show(self):\n",
        "    print(\"parent class\")\n",
        "class b(a):\n",
        "  def show(self):\n",
        "    print(\"this is chield class\")"
      ],
      "metadata": {
        "id": "nQbiicW49RRY"
      },
      "execution_count": null,
      "outputs": []
    },
    {
      "cell_type": "code",
      "source": [
        "e=b()"
      ],
      "metadata": {
        "id": "_ftsfaYw9RPS"
      },
      "execution_count": null,
      "outputs": []
    },
    {
      "cell_type": "code",
      "source": [
        "e.show()   ###it override ,always chield class get high priority##"
      ],
      "metadata": {
        "colab": {
          "base_uri": "https://localhost:8080/"
        },
        "id": "LyUxmIAp9RNL",
        "outputId": "73ad68bb-8833-4981-96a8-00c5fb01a561"
      },
      "execution_count": null,
      "outputs": [
        {
          "output_type": "stream",
          "name": "stdout",
          "text": [
            "this is chield class\n"
          ]
        }
      ]
    },
    {
      "cell_type": "code",
      "source": [
        "class a:\n",
        "  def show(self):\n",
        "    print(\"parent class\")\n",
        "class b(a):\n",
        "  def show(self):\n",
        "    print(\"this is chield class\")\n",
        "    super().show()"
      ],
      "metadata": {
        "id": "_qmiKj9k9RKa"
      },
      "execution_count": null,
      "outputs": []
    },
    {
      "cell_type": "code",
      "source": [
        "e=b()\n",
        "e.show()  ## here we get parent class result also##"
      ],
      "metadata": {
        "colab": {
          "base_uri": "https://localhost:8080/"
        },
        "id": "mKfG5LDr9RHF",
        "outputId": "a7ab63af-9ff2-4464-f6ae-6f16f0d561f6"
      },
      "execution_count": null,
      "outputs": [
        {
          "output_type": "stream",
          "name": "stdout",
          "text": [
            "this is chield class\n",
            "parent class\n"
          ]
        }
      ]
    },
    {
      "cell_type": "markdown",
      "source": [
        "6.Create a base class called \"Vehicle\" with attributes like \"make\", \"model\", and \"year\".\n",
        "Then, create a derived class called \"Car\" that inherits from \"Vehicle\" and adds an\n",
        "attribute called \"fuel_type\". Implement appropriate methods in both classes."
      ],
      "metadata": {
        "id": "UBTkf_YXMikr"
      }
    },
    {
      "cell_type": "code",
      "source": [
        "class vehical:\n",
        "  def show(self):\n",
        "    self.make=str(input(\"enter the maker name: \"))\n",
        "    self.model=str(input(\"enter the model name: \"))\n",
        "    self.year=str(input(\"enter the manufacture year: \"))  ##single inheritance#\n",
        "class car(vehical):\n",
        "  def show(self):\n",
        "    self.fuel_type=str(input(\"enter the fuel_type: \"))\n",
        "    super().show()"
      ],
      "metadata": {
        "id": "FBg2gJGtK6-B"
      },
      "execution_count": null,
      "outputs": []
    },
    {
      "cell_type": "code",
      "source": [
        "e=car()\n"
      ],
      "metadata": {
        "id": "RIpBQGovNAqY"
      },
      "execution_count": null,
      "outputs": []
    },
    {
      "cell_type": "code",
      "source": [
        "e.show()"
      ],
      "metadata": {
        "colab": {
          "base_uri": "https://localhost:8080/"
        },
        "id": "-egCkwaHNKhY",
        "outputId": "7d7a6d46-9c11-4cf1-ac3f-cfd7339942e1"
      },
      "execution_count": null,
      "outputs": [
        {
          "name": "stdout",
          "output_type": "stream",
          "text": [
            "enter the fuel_type: ev\n",
            "enter the maker name: tata motor\n",
            "enter the model name: nexon\n",
            "enter the manufacture year: 2023\n"
          ]
        }
      ]
    },
    {
      "cell_type": "code",
      "source": [
        "e.__dict__"
      ],
      "metadata": {
        "colab": {
          "base_uri": "https://localhost:8080/"
        },
        "id": "59H36_3ENTU5",
        "outputId": "5c294a52-d13e-4f24-d8b5-24e0d4473010"
      },
      "execution_count": null,
      "outputs": [
        {
          "output_type": "execute_result",
          "data": {
            "text/plain": [
              "{'fuel_type': 'ev', 'make': 'tata motor', 'model': 'nexon', 'year': '2023'}"
            ]
          },
          "metadata": {},
          "execution_count": 43
        }
      ]
    },
    {
      "cell_type": "markdown",
      "source": [
        "7. Create a base class called \"Employee\" with attributes like \"name\" and \"salary.\"\n",
        "Derive two classes, \"Manager\" and \"Developer,\" from \"Employee.\" Add an additional\n",
        "attribute called \"department\" for the \"Manager\" class and \"programming_language\"\n",
        "for the \"Developer\" class.\n"
      ],
      "metadata": {
        "id": "Zqq06WLYPcQ3"
      }
    },
    {
      "cell_type": "code",
      "source": [
        "class Employee:\n",
        "  def show(self):\n",
        "    self.name=str(input(\"enter name: \"))\n",
        "    self.salary=int(input(\"enter salary: \"))\n",
        "class manager(Employee):                             ###multiple inheritance##\n",
        "  def department(self):\n",
        "    self.department=str(input(\"enter department: \"))\n",
        "class Developer(Employee):\n",
        "  def dev (self):\n",
        "    self.programming_language=str(input(\"programming_language: \"))"
      ],
      "metadata": {
        "id": "X5o9EE7NPPzg"
      },
      "execution_count": 4,
      "outputs": []
    },
    {
      "cell_type": "code",
      "source": [
        "e=manager()"
      ],
      "metadata": {
        "id": "kD0z3dIcPyw_"
      },
      "execution_count": 5,
      "outputs": []
    },
    {
      "cell_type": "code",
      "source": [
        "e.show()"
      ],
      "metadata": {
        "colab": {
          "base_uri": "https://localhost:8080/"
        },
        "id": "PA04mPKMQE8f",
        "outputId": "8267a6e9-30ca-4725-a996-6f4521fedf49"
      },
      "execution_count": 6,
      "outputs": [
        {
          "name": "stdout",
          "output_type": "stream",
          "text": [
            "enter name: avijit\n",
            "enter salary: 23000\n"
          ]
        }
      ]
    },
    {
      "cell_type": "code",
      "source": [
        "e.department()"
      ],
      "metadata": {
        "colab": {
          "base_uri": "https://localhost:8080/"
        },
        "id": "xzkZi7GDQa0o",
        "outputId": "a6cfee0e-0922-4f65-f60d-03f127e6b946"
      },
      "execution_count": 7,
      "outputs": [
        {
          "name": "stdout",
          "output_type": "stream",
          "text": [
            "enter department: non-it\n"
          ]
        }
      ]
    },
    {
      "cell_type": "code",
      "source": [
        "e.__dict__"
      ],
      "metadata": {
        "colab": {
          "base_uri": "https://localhost:8080/"
        },
        "id": "5XM0fXktQuD_",
        "outputId": "3f585046-57e4-4cb9-e8a9-abb70a076435"
      },
      "execution_count": 8,
      "outputs": [
        {
          "output_type": "execute_result",
          "data": {
            "text/plain": [
              "{'name': 'avijit', 'salary': 23000, 'department': 'non-it'}"
            ]
          },
          "metadata": {},
          "execution_count": 8
        }
      ]
    },
    {
      "cell_type": "code",
      "source": [
        "e1=Developer()"
      ],
      "metadata": {
        "id": "G0Gpjd5dQyMf"
      },
      "execution_count": 9,
      "outputs": []
    },
    {
      "cell_type": "code",
      "source": [
        "e1.show()"
      ],
      "metadata": {
        "colab": {
          "base_uri": "https://localhost:8080/"
        },
        "id": "xMf7CAYVQ2T8",
        "outputId": "079eeb08-b4a8-48a2-82c2-017f7ab98763"
      },
      "execution_count": 10,
      "outputs": [
        {
          "name": "stdout",
          "output_type": "stream",
          "text": [
            "enter name: arijit\n",
            "enter salary: 20000\n"
          ]
        }
      ]
    },
    {
      "cell_type": "code",
      "source": [
        "e1.dev()"
      ],
      "metadata": {
        "colab": {
          "base_uri": "https://localhost:8080/"
        },
        "id": "Im8HeZUyQ4VX",
        "outputId": "6d029e9a-6be5-47e3-f7e7-4d80bed8fc28"
      },
      "execution_count": 12,
      "outputs": [
        {
          "name": "stdout",
          "output_type": "stream",
          "text": [
            "programming_language: python\n"
          ]
        }
      ]
    },
    {
      "cell_type": "code",
      "source": [
        "e1.__dict__"
      ],
      "metadata": {
        "id": "-J1v16BsQ_og",
        "colab": {
          "base_uri": "https://localhost:8080/"
        },
        "outputId": "5d6558c9-4aa5-4758-eec1-6ed079c2950c"
      },
      "execution_count": 13,
      "outputs": [
        {
          "output_type": "execute_result",
          "data": {
            "text/plain": [
              "{'name': 'arijit', 'salary': 20000, 'programming_language': 'python'}"
            ]
          },
          "metadata": {},
          "execution_count": 13
        }
      ]
    },
    {
      "cell_type": "markdown",
      "source": [
        "8. Design a base class called \"Shape\" with attributes like \"colour\" and \"border_width.\"\n",
        "Create derived classes, \"Rectangle\" and \"Circle,\" that inherit from \"Shape\" and add\n",
        "specific attributes like \"length\" and \"width\" for the \"Rectangle\" class and \"radius\" for\n",
        "the \"Circle\" class."
      ],
      "metadata": {
        "id": "dAlCWfS0U6s8"
      }
    },
    {
      "cell_type": "code",
      "source": [
        "class Shape:\n",
        "  def show(self):\n",
        "    self.colour=str(input(\"enter the colour: \"))\n",
        "    self.border_width=float(input(\"enter the border_width: \"))\n",
        "\n",
        "class Rectangle(Shape):\n",
        "  def rect (self):\n",
        "    self.length=int(input(\"enter the length: \"))\n",
        "    self.width=int(input(\"enter the width: \"))\n",
        "    print(\"area\", (self.width*self.length))\n",
        "class  Circle (Shape):\n",
        "  def circle(self):\n",
        "    self.radius=int(input(\"enter the radius: \"))\n",
        "    print(\"area\", (2*3.14*self.radius))"
      ],
      "metadata": {
        "id": "vev_4drnU4lL"
      },
      "execution_count": 18,
      "outputs": []
    },
    {
      "cell_type": "code",
      "source": [
        "e=Rectangle()"
      ],
      "metadata": {
        "id": "ibltx1z4XXqS"
      },
      "execution_count": 19,
      "outputs": []
    },
    {
      "cell_type": "code",
      "source": [
        "e.rect()"
      ],
      "metadata": {
        "colab": {
          "base_uri": "https://localhost:8080/"
        },
        "id": "vASQPiy4Xbp6",
        "outputId": "12a0a520-bc64-43ec-9644-7c8348b7b75d"
      },
      "execution_count": 20,
      "outputs": [
        {
          "output_type": "stream",
          "name": "stdout",
          "text": [
            "enter the length: 20\n",
            "enter the width: 30\n",
            "area 600\n"
          ]
        }
      ]
    },
    {
      "cell_type": "code",
      "source": [
        "e.show()"
      ],
      "metadata": {
        "colab": {
          "base_uri": "https://localhost:8080/"
        },
        "id": "FSnVBUgOXeBK",
        "outputId": "a94aa247-b9e3-4b7d-d861-58ee86af4ada"
      },
      "execution_count": 21,
      "outputs": [
        {
          "name": "stdout",
          "output_type": "stream",
          "text": [
            "enter the colour: red\n",
            "enter the border_width: 1.2\n"
          ]
        }
      ]
    },
    {
      "cell_type": "code",
      "source": [
        "e1=Circle()"
      ],
      "metadata": {
        "id": "egnVCnpTXkuD"
      },
      "execution_count": 22,
      "outputs": []
    },
    {
      "cell_type": "code",
      "source": [
        "e1.show()"
      ],
      "metadata": {
        "colab": {
          "base_uri": "https://localhost:8080/"
        },
        "id": "J1S8TWGhXx_h",
        "outputId": "726b184b-a129-4009-de2f-b759dc7f63af"
      },
      "execution_count": 23,
      "outputs": [
        {
          "name": "stdout",
          "output_type": "stream",
          "text": [
            "enter the colour: green\n",
            "enter the border_width: 0.8\n"
          ]
        }
      ]
    },
    {
      "cell_type": "code",
      "source": [
        "e1.circle()"
      ],
      "metadata": {
        "colab": {
          "base_uri": "https://localhost:8080/"
        },
        "id": "9v4wOm4cX1up",
        "outputId": "30608c2b-31d5-40dd-b3d8-8cf1e4c29cbf"
      },
      "execution_count": 24,
      "outputs": [
        {
          "output_type": "stream",
          "name": "stdout",
          "text": [
            "enter the radius: 4\n",
            "area 25.12\n"
          ]
        }
      ]
    },
    {
      "cell_type": "code",
      "source": [
        "e.__dict__"
      ],
      "metadata": {
        "colab": {
          "base_uri": "https://localhost:8080/"
        },
        "id": "ZupwZS-4X686",
        "outputId": "55f72dbd-8262-4875-caab-c306d9096e82"
      },
      "execution_count": 25,
      "outputs": [
        {
          "output_type": "execute_result",
          "data": {
            "text/plain": [
              "{'length': 20, 'width': 30, 'colour': 'red', 'border_width': 1.2}"
            ]
          },
          "metadata": {},
          "execution_count": 25
        }
      ]
    },
    {
      "cell_type": "code",
      "source": [
        "e1.__dict__"
      ],
      "metadata": {
        "colab": {
          "base_uri": "https://localhost:8080/"
        },
        "id": "HvUE2UsiYFbi",
        "outputId": "9246d405-df25-44ff-f908-5db233c39b7b"
      },
      "execution_count": 26,
      "outputs": [
        {
          "output_type": "execute_result",
          "data": {
            "text/plain": [
              "{'colour': 'green', 'border_width': 0.8, 'radius': 4}"
            ]
          },
          "metadata": {},
          "execution_count": 26
        }
      ]
    },
    {
      "cell_type": "markdown",
      "source": [
        "9. Create a base class called \"Device\" with attributes like \"brand\" and \"model.\" Derive\n",
        "two classes, \"Phone\" and \"Tablet,\" from \"Device.\" Add specific attributes like\n",
        "\"screen_size\" for the \"Phone\" class and \"battery_capacity\" for the \"Tablet\" class."
      ],
      "metadata": {
        "id": "Cxmz-3jwYPMT"
      }
    },
    {
      "cell_type": "code",
      "source": [
        "class Device:\n",
        "  def show(self):\n",
        "    self.brand=str(input(\"enter brand name: \"))\n",
        "    self.model=str(input(\"enter model name: \"))\n",
        "class Phone(Device):\n",
        "  def ph(self):\n",
        "    self.screen_size=float(input(\"enter size: \"))\n",
        "class Tablet(Device):\n",
        "  def tab(self):\n",
        "    self.battery_capacity=int(input(\"enter battary capcity in mAh: \"))"
      ],
      "metadata": {
        "id": "TqYhvlqoYHIC"
      },
      "execution_count": 27,
      "outputs": []
    },
    {
      "cell_type": "code",
      "source": [
        "e=Phone()"
      ],
      "metadata": {
        "id": "kkE_5f6_Zl-w"
      },
      "execution_count": 29,
      "outputs": []
    },
    {
      "cell_type": "code",
      "source": [
        "e.ph()"
      ],
      "metadata": {
        "colab": {
          "base_uri": "https://localhost:8080/"
        },
        "id": "AwQvLtZ8Zn_6",
        "outputId": "e895bed1-ee07-4f3d-f847-fd9d18795979"
      },
      "execution_count": 30,
      "outputs": [
        {
          "name": "stdout",
          "output_type": "stream",
          "text": [
            "enter size: 6.5\n"
          ]
        }
      ]
    },
    {
      "cell_type": "code",
      "source": [
        "e.show()"
      ],
      "metadata": {
        "colab": {
          "base_uri": "https://localhost:8080/"
        },
        "id": "EAFRPhb3ZsFa",
        "outputId": "40ef51c0-c334-4445-b3e0-9e5093bd2f4f"
      },
      "execution_count": 31,
      "outputs": [
        {
          "name": "stdout",
          "output_type": "stream",
          "text": [
            "enter brand name: micromax\n",
            "enter model name: note 2\n"
          ]
        }
      ]
    },
    {
      "cell_type": "code",
      "source": [
        "e1=Tablet()"
      ],
      "metadata": {
        "id": "hxIjP4-aZwQx"
      },
      "execution_count": 32,
      "outputs": []
    },
    {
      "cell_type": "code",
      "source": [
        "e1.tab()"
      ],
      "metadata": {
        "colab": {
          "base_uri": "https://localhost:8080/"
        },
        "id": "4CGzRbSUZ3nJ",
        "outputId": "4a186c08-7ac8-408d-d932-5a2cf36604d8"
      },
      "execution_count": 33,
      "outputs": [
        {
          "name": "stdout",
          "output_type": "stream",
          "text": [
            "enter battary capcity in mAh: 4000\n"
          ]
        }
      ]
    },
    {
      "cell_type": "code",
      "source": [
        "e1.show()"
      ],
      "metadata": {
        "colab": {
          "base_uri": "https://localhost:8080/"
        },
        "id": "wAZT8r_OZ5kh",
        "outputId": "45c82156-b90c-4e75-9828-63d5746f7bdc"
      },
      "execution_count": 34,
      "outputs": [
        {
          "name": "stdout",
          "output_type": "stream",
          "text": [
            "enter brand name: apple\n",
            "enter model name: ipad\n"
          ]
        }
      ]
    },
    {
      "cell_type": "markdown",
      "source": [
        "10. Create a base class called \"BankAccount\" with attributes like \"account_number\" and\n",
        "\"balance.\" Derive two classes, \"SavingsAccount\" and \"CheckingAccount,\" from\n",
        "\"BankAccount.\" Add specific methods like \"calculate_interest\" for the\n",
        "\"SavingsAccount\" class and \"deduct_fees\" for the \"CheckingAccount\" class."
      ],
      "metadata": {
        "id": "784MPTUGaN_n"
      }
    },
    {
      "cell_type": "code",
      "source": [
        "class BankAccount :\n",
        "  def show(self):\n",
        "    self.account_number=str(input(\"account_number: \"))\n",
        "    self.balance=float(input(\"balance: \"))\n",
        "class  SavingsAccount(BankAccount):\n",
        "  def calculate_interest(self):\n",
        "    self.year=int(input(\"enter year: \"))\n",
        "    self.intersent=float(input(\"enter interest: \"))\n",
        "    super().show()\n",
        "    i=self.balance*self.year*self.intersent\n",
        "    print(\"simple interest is :\",i)\n",
        "class CheckingAccount(BankAccount):\n",
        "  def deduct_fees(self):\n",
        "    self.deduct_bal=float(input(\"enter deduct balance: \"))\n",
        "    print(\"deduct balance is :\", self.deduct_bal)\n",
        "    super().show()\n",
        "    new_bal=self.balance-self.deduct_bal\n",
        "    print(\"your reaming amount is: \",new_bal)"
      ],
      "metadata": {
        "id": "MUko2ImkZ8mh"
      },
      "execution_count": 38,
      "outputs": []
    },
    {
      "cell_type": "code",
      "source": [
        "e=SavingsAccount()"
      ],
      "metadata": {
        "id": "p4jDcKZUbHIU"
      },
      "execution_count": 39,
      "outputs": []
    },
    {
      "cell_type": "code",
      "source": [
        "e.calculate_interest()"
      ],
      "metadata": {
        "colab": {
          "base_uri": "https://localhost:8080/"
        },
        "id": "0gTO9vn-bHGT",
        "outputId": "c96e356e-3d3e-477f-d779-b6424479015a"
      },
      "execution_count": 40,
      "outputs": [
        {
          "output_type": "stream",
          "name": "stdout",
          "text": [
            "enter year: 2\n",
            "enter interest: .75\n",
            "account_number: AH67788999HN\n",
            "balance: 1000\n",
            "simple interest is : 1500.0\n"
          ]
        }
      ]
    },
    {
      "cell_type": "code",
      "source": [
        "e1=CheckingAccount()"
      ],
      "metadata": {
        "id": "k4v9KLHbbHDv"
      },
      "execution_count": 41,
      "outputs": []
    },
    {
      "cell_type": "code",
      "source": [
        "e1.deduct_fees()"
      ],
      "metadata": {
        "colab": {
          "base_uri": "https://localhost:8080/"
        },
        "id": "br2JQ0cbbHBQ",
        "outputId": "c31dc7bd-6c1f-42c3-def3-f072138907bd"
      },
      "execution_count": 42,
      "outputs": [
        {
          "output_type": "stream",
          "name": "stdout",
          "text": [
            "enter deduct balance: 120\n",
            "deduct balance is : 120.0\n",
            "account_number: AJJKKNN7898967\n",
            "balance: 1500\n",
            "your reaming amount is:  1380.0\n"
          ]
        }
      ]
    },
    {
      "cell_type": "code",
      "source": [],
      "metadata": {
        "id": "7N5m19jdbG-Z"
      },
      "execution_count": null,
      "outputs": []
    }
  ]
}
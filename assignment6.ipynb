{
  "nbformat": 4,
  "nbformat_minor": 0,
  "metadata": {
    "colab": {
      "provenance": []
    },
    "kernelspec": {
      "name": "python3",
      "display_name": "Python 3"
    },
    "language_info": {
      "name": "python"
    }
  },
  "cells": [
    {
      "cell_type": "markdown",
      "source": [
        "Q.1. What are keywords in python? Using the keyword library, print all the python keywords.\n",
        "\n",
        "some predefined and reserved words in Python that have special meanings"
      ],
      "metadata": {
        "id": "GhkCVdhn0y_R"
      }
    },
    {
      "cell_type": "code",
      "source": [
        "import keyword"
      ],
      "metadata": {
        "id": "57LpfhiZ0eRC"
      },
      "execution_count": 1,
      "outputs": []
    },
    {
      "cell_type": "code",
      "source": [
        "keyword.kwlist"
      ],
      "metadata": {
        "colab": {
          "base_uri": "https://localhost:8080/"
        },
        "id": "kG0WsCf10eOt",
        "outputId": "194a2dd6-931b-4fa2-fa9b-1cd69cb7584b"
      },
      "execution_count": 2,
      "outputs": [
        {
          "output_type": "execute_result",
          "data": {
            "text/plain": [
              "['False',\n",
              " 'None',\n",
              " 'True',\n",
              " 'and',\n",
              " 'as',\n",
              " 'assert',\n",
              " 'async',\n",
              " 'await',\n",
              " 'break',\n",
              " 'class',\n",
              " 'continue',\n",
              " 'def',\n",
              " 'del',\n",
              " 'elif',\n",
              " 'else',\n",
              " 'except',\n",
              " 'finally',\n",
              " 'for',\n",
              " 'from',\n",
              " 'global',\n",
              " 'if',\n",
              " 'import',\n",
              " 'in',\n",
              " 'is',\n",
              " 'lambda',\n",
              " 'nonlocal',\n",
              " 'not',\n",
              " 'or',\n",
              " 'pass',\n",
              " 'raise',\n",
              " 'return',\n",
              " 'try',\n",
              " 'while',\n",
              " 'with',\n",
              " 'yield']"
            ]
          },
          "metadata": {},
          "execution_count": 2
        }
      ]
    },
    {
      "cell_type": "markdown",
      "source": [
        "Q.2. What are the rules to create variables in python?\n",
        "\n",
        "A variable name must start with a letter or the underscore character\n",
        "\n",
        "A variable name cannot start with a number\n",
        "\n",
        "A variable name can only contain alpha-numeric characters and underscores (A-z, 0-9, and _ )\n",
        "\n",
        "\n",
        "Variable names are case-sensitive\n",
        "\n",
        "A variable name cannot be any of the Python keywords."
      ],
      "metadata": {
        "id": "lU6N-QmIkRGC"
      }
    },
    {
      "cell_type": "markdown",
      "source": [
        "Q.3. What are the standards and conventions followed for the nomenclature of variables in Python to improve code readability and maintainability?\n",
        "\n",
        "\n",
        "Instance variable names should follow the lowercase convention. Have the underscore as a separator while naming a multi-word instance variable. Begin a non-public instance variable name with a single underscore. Use two consecutive underscores at the beginning of an instance variable."
      ],
      "metadata": {
        "id": "wZrIKM40ktXR"
      }
    },
    {
      "cell_type": "markdown",
      "source": [
        "Q.4. What will happen if a keyword is used as a variable name?\n",
        "\n",
        "\n",
        "We'll get a SyntaxError if we try to do that"
      ],
      "metadata": {
        "id": "D3QyhNA1lSwY"
      }
    },
    {
      "cell_type": "code",
      "source": [
        "True=10"
      ],
      "metadata": {
        "colab": {
          "base_uri": "https://localhost:8080/",
          "height": 140
        },
        "id": "dtLr2YV10eMV",
        "outputId": "8746f6a8-2198-4e5f-dddb-96382324772b"
      },
      "execution_count": 3,
      "outputs": [
        {
          "output_type": "error",
          "ename": "SyntaxError",
          "evalue": "ignored",
          "traceback": [
            "\u001b[0;36m  File \u001b[0;32m\"<ipython-input-3-f9c1faaf4ad0>\"\u001b[0;36m, line \u001b[0;32m1\u001b[0m\n\u001b[0;31m    True=10\u001b[0m\n\u001b[0m    ^\u001b[0m\n\u001b[0;31mSyntaxError\u001b[0m\u001b[0;31m:\u001b[0m cannot assign to True\n"
          ]
        }
      ]
    },
    {
      "cell_type": "markdown",
      "source": [
        "Q.5. For what purpose def keyword is used?\n",
        "\n",
        "Python def keyword is used to define a function"
      ],
      "metadata": {
        "id": "DkZWKmXGmRmf"
      }
    },
    {
      "cell_type": "markdown",
      "source": [
        "Q.6. What is the operation of this special character ‘\\’?\n",
        "\n",
        " It is used in representing certain whitespace characters"
      ],
      "metadata": {
        "id": "aWX-RCiBmXbx"
      }
    },
    {
      "cell_type": "markdown",
      "source": [
        "Q.7. Give an example of the following conditions:\n",
        "(i) Homogeneous list\n",
        "(ii) Heterogeneous set\n",
        "(iii) Homogeneous tuple"
      ],
      "metadata": {
        "id": "gROtUqGPm-NS"
      }
    },
    {
      "cell_type": "code",
      "source": [
        "Homogeneous_list=[1,2,2,3,4,3]"
      ],
      "metadata": {
        "id": "HmyUVKefmPHT"
      },
      "execution_count": 8,
      "outputs": []
    },
    {
      "cell_type": "code",
      "source": [
        "Homogeneous_list"
      ],
      "metadata": {
        "colab": {
          "base_uri": "https://localhost:8080/"
        },
        "id": "UDwKXGgXmPEf",
        "outputId": "01f7bc5d-ec9f-43f8-8873-969e9f3becd2"
      },
      "execution_count": 9,
      "outputs": [
        {
          "output_type": "execute_result",
          "data": {
            "text/plain": [
              "[1, 2, 2, 3, 4, 3]"
            ]
          },
          "metadata": {},
          "execution_count": 9
        }
      ]
    },
    {
      "cell_type": "code",
      "source": [
        "Heterogeneous_set={\"a\",12,40.35,True}"
      ],
      "metadata": {
        "id": "ZmJ-uZCTmPBs"
      },
      "execution_count": 10,
      "outputs": []
    },
    {
      "cell_type": "code",
      "source": [
        "Heterogeneous_set"
      ],
      "metadata": {
        "colab": {
          "base_uri": "https://localhost:8080/"
        },
        "id": "B-kx001I0eJ-",
        "outputId": "b0805790-ce9e-4b90-b9fb-bd1c717523db"
      },
      "execution_count": 11,
      "outputs": [
        {
          "output_type": "execute_result",
          "data": {
            "text/plain": [
              "{12, 40.35, True, 'a'}"
            ]
          },
          "metadata": {},
          "execution_count": 11
        }
      ]
    },
    {
      "cell_type": "code",
      "source": [
        "Homogeneous_tuple=(12,4,2,34,2,32)"
      ],
      "metadata": {
        "id": "_PCGzOVAnauI"
      },
      "execution_count": 13,
      "outputs": []
    },
    {
      "cell_type": "code",
      "source": [
        "Homogeneous_tuple"
      ],
      "metadata": {
        "colab": {
          "base_uri": "https://localhost:8080/"
        },
        "id": "TVCZELfAnarn",
        "outputId": "94734258-a27c-4441-df17-f754311e4853"
      },
      "execution_count": 14,
      "outputs": [
        {
          "output_type": "execute_result",
          "data": {
            "text/plain": [
              "(12, 4, 2, 34, 2, 32)"
            ]
          },
          "metadata": {},
          "execution_count": 14
        }
      ]
    },
    {
      "cell_type": "markdown",
      "source": [
        "Q.8. Explain the mutable and immutable data types with proper explanation & examples.\n",
        "\n",
        "tuple and is immutable and list and dictionary are mutable, here we perform 3 oparations\n",
        "\n",
        "1.update\n",
        "\n",
        "2.insert\n",
        "\n",
        "3.delete"
      ],
      "metadata": {
        "id": "IcFFvUqKnjwv"
      }
    },
    {
      "cell_type": "code",
      "source": [
        "tuple=(12,3,42)"
      ],
      "metadata": {
        "id": "zFHBmqeLnapr"
      },
      "execution_count": 15,
      "outputs": []
    },
    {
      "cell_type": "code",
      "source": [
        "list=[12,34,21]"
      ],
      "metadata": {
        "id": "A8GF3unHnano"
      },
      "execution_count": 16,
      "outputs": []
    },
    {
      "cell_type": "code",
      "source": [
        "we cant edit tuple and set."
      ],
      "metadata": {
        "id": "CRgyUsnynalp"
      },
      "execution_count": null,
      "outputs": []
    },
    {
      "cell_type": "code",
      "source": [
        "list.insert(2,89)"
      ],
      "metadata": {
        "id": "CQB2goCBnaig"
      },
      "execution_count": 19,
      "outputs": []
    },
    {
      "cell_type": "code",
      "source": [
        "list"
      ],
      "metadata": {
        "colab": {
          "base_uri": "https://localhost:8080/"
        },
        "id": "qPUTd1npnafr",
        "outputId": "eb2c88f1-e35f-4545-d1dd-dde2c10d8030"
      },
      "execution_count": 20,
      "outputs": [
        {
          "output_type": "execute_result",
          "data": {
            "text/plain": [
              "[12, 34, 89, 21]"
            ]
          },
          "metadata": {},
          "execution_count": 20
        }
      ]
    },
    {
      "cell_type": "markdown",
      "source": [
        "Q.9. Write a code to create the given structure using only for loop.\n"
      ],
      "metadata": {
        "id": "flRG6vIMozRR"
      }
    },
    {
      "cell_type": "code",
      "source": [
        "for i in range(6):\n",
        "  for j in range(10):\n",
        "    if j>=6-i and j<=4+i:\n",
        "      print(\"*\",end=\" \")\n",
        "    else:\n",
        "      print(\" \",end=\" \")\n",
        "  print()"
      ],
      "metadata": {
        "colab": {
          "base_uri": "https://localhost:8080/"
        },
        "id": "e58Cd2fenadY",
        "outputId": "60e7c4f9-5fc8-4952-d77d-c5a0cc4cbde2"
      },
      "execution_count": 25,
      "outputs": [
        {
          "output_type": "stream",
          "name": "stdout",
          "text": [
            "                    \n",
            "          *         \n",
            "        * * *       \n",
            "      * * * * *     \n",
            "    * * * * * * *   \n",
            "  * * * * * * * * * \n"
          ]
        }
      ]
    },
    {
      "cell_type": "markdown",
      "source": [
        "Q.10. Write a code to create the given structure using while loop."
      ],
      "metadata": {
        "id": "DeBTIm4hrga3"
      }
    },
    {
      "cell_type": "code",
      "source": [
        "rows = int(input(\"Enter Inverted Pyramid Pattern Rows = \"))\n",
        "i = rows\n",
        "while(i >= 1):\n",
        "    j = 0\n",
        "    while(j <= rows - i):\n",
        "        print(end = ' ')\n",
        "        j = j + 1\n",
        "    k = 0\n",
        "    while(k < i):\n",
        "        print('|', end = ' ')\n",
        "        k = k + 1\n",
        "    i = i - 1\n",
        "    print()"
      ],
      "metadata": {
        "colab": {
          "base_uri": "https://localhost:8080/"
        },
        "id": "COjIvFaxuLzV",
        "outputId": "8d379757-4ab1-48ea-c965-110d60b42971"
      },
      "execution_count": 45,
      "outputs": [
        {
          "output_type": "stream",
          "name": "stdout",
          "text": [
            "Enter Inverted Pyramid Pattern Rows = 9\n",
            " | | | | | | | | | \n",
            "  | | | | | | | | \n",
            "   | | | | | | | \n",
            "    | | | | | | \n",
            "     | | | | | \n",
            "      | | | | \n",
            "       | | | \n",
            "        | | \n",
            "         | \n"
          ]
        }
      ]
    },
    {
      "cell_type": "code",
      "source": [],
      "metadata": {
        "id": "y_MUCMU_0eE8"
      },
      "execution_count": null,
      "outputs": []
    },
    {
      "cell_type": "code",
      "execution_count": null,
      "metadata": {
        "id": "97QKzyC70Enk"
      },
      "outputs": [],
      "source": []
    }
  ]
}
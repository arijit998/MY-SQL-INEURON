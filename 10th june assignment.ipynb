{
  "nbformat": 4,
  "nbformat_minor": 0,
  "metadata": {
    "colab": {
      "provenance": []
    },
    "kernelspec": {
      "name": "python3",
      "display_name": "Python 3"
    },
    "language_info": {
      "name": "python"
    }
  },
  "cells": [
    {
      "cell_type": "markdown",
      "source": [
        "1. In Python, what is the difference between a built-in function and a user-defined function? Provide an\n",
        "example of each.\n",
        "\n",
        "\n",
        "user define function that is created by user\n",
        "\n",
        "Built-in function are embedded in python. They are provided by compiler."
      ],
      "metadata": {
        "id": "C2hP7NuyWpZT"
      }
    },
    {
      "cell_type": "code",
      "execution_count": 1,
      "metadata": {
        "id": "KlQqhtdPWkyq"
      },
      "outputs": [],
      "source": [
        "x=10\n",
        "y=12"
      ]
    },
    {
      "cell_type": "code",
      "source": [
        "print(x+y)"
      ],
      "metadata": {
        "colab": {
          "base_uri": "https://localhost:8080/"
        },
        "id": "TtGRGeB-W9yg",
        "outputId": "888b392f-2840-47e7-c4a7-3c0580f5c36c"
      },
      "execution_count": 5,
      "outputs": [
        {
          "output_type": "stream",
          "name": "stdout",
          "text": [
            "22\n"
          ]
        }
      ]
    },
    {
      "cell_type": "code",
      "source": [
        "def add(a,b):\n",
        "  return(a+b)"
      ],
      "metadata": {
        "id": "5VJrsvZbW_Mm"
      },
      "execution_count": 6,
      "outputs": []
    },
    {
      "cell_type": "code",
      "source": [
        "add(10,12)"
      ],
      "metadata": {
        "colab": {
          "base_uri": "https://localhost:8080/"
        },
        "id": "2YsZxXT9XEJ2",
        "outputId": "4564603d-f600-4853-8770-469d80154889"
      },
      "execution_count": 7,
      "outputs": [
        {
          "output_type": "execute_result",
          "data": {
            "text/plain": [
              "22"
            ]
          },
          "metadata": {},
          "execution_count": 7
        }
      ]
    },
    {
      "cell_type": "markdown",
      "source": [
        "2. How can you pass arguments to a function in Python? Explain the difference between positional arguments and keyword arguments.\n",
        "\n",
        "where we dont know abount no of input ,there we use it.\n",
        "\n",
        "keyword arguments for key value pair input and 1st \"*\" use for accept any no of input and 2nd \"*\" for key value pair.\n",
        "\n",
        "in positional arguments \"*\" use for accept any no of input."
      ],
      "metadata": {
        "id": "krGxyMdmXzRj"
      }
    },
    {
      "cell_type": "code",
      "source": [
        "def exm (*arg,**kwarg):\n",
        "  print(arg)\n",
        "  print(kwarg)"
      ],
      "metadata": {
        "id": "_caiKOFyXy8I"
      },
      "execution_count": 1,
      "outputs": []
    },
    {
      "cell_type": "code",
      "source": [
        "l=(\"arijit avijit rajib\").split()"
      ],
      "metadata": {
        "id": "pT6hEcWTXy50"
      },
      "execution_count": 2,
      "outputs": []
    },
    {
      "cell_type": "code",
      "source": [
        "d={\"emp\":\"arijit\",\"city\":\"kolkata\"}"
      ],
      "metadata": {
        "id": "h46aJwbYXy3Y"
      },
      "execution_count": 3,
      "outputs": []
    },
    {
      "cell_type": "code",
      "source": [
        "exm(l,d)"
      ],
      "metadata": {
        "colab": {
          "base_uri": "https://localhost:8080/"
        },
        "id": "YGqrLUusXy08",
        "outputId": "cc4ffdc6-83fc-4641-f14f-a264307869be"
      },
      "execution_count": 4,
      "outputs": [
        {
          "output_type": "stream",
          "name": "stdout",
          "text": [
            "(['arijit', 'avijit', 'rajib'], {'emp': 'arijit', 'city': 'kolkata'})\n",
            "{}\n"
          ]
        }
      ]
    },
    {
      "cell_type": "code",
      "source": [
        "exm(*l,**d)"
      ],
      "metadata": {
        "colab": {
          "base_uri": "https://localhost:8080/"
        },
        "id": "czA0QTr4XywH",
        "outputId": "e3fe6480-52ec-4efc-daf6-d20d3014473d"
      },
      "execution_count": 5,
      "outputs": [
        {
          "output_type": "stream",
          "name": "stdout",
          "text": [
            "('arijit', 'avijit', 'rajib')\n",
            "{'emp': 'arijit', 'city': 'kolkata'}\n"
          ]
        }
      ]
    },
    {
      "cell_type": "markdown",
      "source": [
        "3. What is the purpose of the return statement in a function? Can a function have multiple return\n",
        "statements? Explain with an example.\n",
        "\n",
        "return statement is used to return the output from a function.\n",
        "\n",
        "yes a function having more than one return  statements but when we call the function , only one will be executed."
      ],
      "metadata": {
        "id": "vAmtTKPbvETp"
      }
    },
    {
      "cell_type": "code",
      "source": [
        "def math (a,b):\n",
        "  return a+b\n",
        "  return a*b"
      ],
      "metadata": {
        "id": "iUhybPUBXytf"
      },
      "execution_count": 6,
      "outputs": []
    },
    {
      "cell_type": "code",
      "source": [
        "math(12,1)"
      ],
      "metadata": {
        "colab": {
          "base_uri": "https://localhost:8080/"
        },
        "id": "YOvakEm8XyrN",
        "outputId": "7c26eae3-29b8-4a20-e806-6bad89d8747e"
      },
      "execution_count": 7,
      "outputs": [
        {
          "output_type": "execute_result",
          "data": {
            "text/plain": [
              "13"
            ]
          },
          "metadata": {},
          "execution_count": 7
        }
      ]
    },
    {
      "cell_type": "markdown",
      "source": [
        "4. What are lambda functions in Python? How are they different from regular functions? Provide an\n",
        "example where a lambda function can be useful.\n",
        "\n",
        "\n",
        "lambda function is same as user define function without name."
      ],
      "metadata": {
        "id": "aH_spHSizpY-"
      }
    },
    {
      "cell_type": "code",
      "source": [
        "def math (a,b):\n",
        "  return a+b"
      ],
      "metadata": {
        "id": "oqWOXfDOXypI"
      },
      "execution_count": 8,
      "outputs": []
    },
    {
      "cell_type": "code",
      "source": [
        "math(12,1)"
      ],
      "metadata": {
        "colab": {
          "base_uri": "https://localhost:8080/"
        },
        "id": "CuTktSS5Xymf",
        "outputId": "744f3393-8419-4f5e-af00-e043da00c329"
      },
      "execution_count": 9,
      "outputs": [
        {
          "output_type": "execute_result",
          "data": {
            "text/plain": [
              "13"
            ]
          },
          "metadata": {},
          "execution_count": 9
        }
      ]
    },
    {
      "cell_type": "code",
      "source": [
        "a=lambda x,y: x+y"
      ],
      "metadata": {
        "id": "NR8nuN2EXykS"
      },
      "execution_count": 13,
      "outputs": []
    },
    {
      "cell_type": "code",
      "source": [
        "a(12,3)"
      ],
      "metadata": {
        "colab": {
          "base_uri": "https://localhost:8080/"
        },
        "id": "ogvrGK9JXyia",
        "outputId": "8187027c-9cbc-4c68-bd13-44bbd8273b2e"
      },
      "execution_count": 14,
      "outputs": [
        {
          "output_type": "execute_result",
          "data": {
            "text/plain": [
              "15"
            ]
          },
          "metadata": {},
          "execution_count": 14
        }
      ]
    },
    {
      "cell_type": "markdown",
      "source": [
        "5. How does the concept of \"scope\" apply to functions in Python? Explain the difference between local\n",
        "scope and global scope.\n",
        "\n",
        " This Python scope contains the names that you define inside the function.\n",
        "\n",
        " A global variable has global scope. A global variable is accessible from anywhere in the code. Local Scope contains things defined inside code blocks. A local variable has local scope."
      ],
      "metadata": {
        "id": "iFEQ-f8p1KSA"
      }
    },
    {
      "cell_type": "markdown",
      "source": [
        "6. How can you use the \"return\" statement in a Python function to return multiple values?\n",
        "\n",
        "\n",
        "separating them by commas."
      ],
      "metadata": {
        "id": "w6CDUq9h16vC"
      }
    },
    {
      "cell_type": "code",
      "source": [
        "def math (a,b):\n",
        "  return a+b , a*b"
      ],
      "metadata": {
        "id": "PFPNJ8a-1JlW"
      },
      "execution_count": 16,
      "outputs": []
    },
    {
      "cell_type": "code",
      "source": [
        "math(7,11)"
      ],
      "metadata": {
        "colab": {
          "base_uri": "https://localhost:8080/"
        },
        "id": "yGcfHc5O1JgY",
        "outputId": "81769ed8-2b2a-4a13-ee97-5898552f9201"
      },
      "execution_count": 17,
      "outputs": [
        {
          "output_type": "execute_result",
          "data": {
            "text/plain": [
              "(18, 77)"
            ]
          },
          "metadata": {},
          "execution_count": 17
        }
      ]
    },
    {
      "cell_type": "markdown",
      "source": [
        "7. What is the difference between the \"pass by value\" and \"pass by reference\" concepts when it\n",
        "comes to function arguments in Python?\n",
        "\n",
        "\n",
        "If you pass something by value, you're passing the value the object represents. In contrast, if you pass something by reference, you're passing a reference to the object itself."
      ],
      "metadata": {
        "id": "aTh_gd2l2RIT"
      }
    },
    {
      "cell_type": "markdown",
      "source": [
        "8. Create a function that can intake integer or decimal value and do following operations:\n",
        "\n",
        "a. Logarithmic function (log x)\n",
        "\n",
        "b. Exponential function (exp(x))\n",
        "\n",
        "c. Power function with base 2 (2\n",
        "x\n",
        ")\n",
        "\n",
        "d. Square root"
      ],
      "metadata": {
        "id": "QCgTy5lg3Frk"
      }
    },
    {
      "cell_type": "code",
      "source": [
        "import math\n",
        "x=int(input(\"enter tha no: \"))\n",
        "def  no (x):\n",
        "  return math.log(x) ,math.exp(x),math.sqrt(x),math.log2(2*x)"
      ],
      "metadata": {
        "colab": {
          "base_uri": "https://localhost:8080/"
        },
        "id": "9s_N3Bsu1Jd5",
        "outputId": "957055d5-63a7-4105-f56d-dadb4109a252"
      },
      "execution_count": 37,
      "outputs": [
        {
          "name": "stdout",
          "output_type": "stream",
          "text": [
            "enter tha no: 12\n"
          ]
        }
      ]
    },
    {
      "cell_type": "code",
      "source": [
        "no(12)"
      ],
      "metadata": {
        "colab": {
          "base_uri": "https://localhost:8080/"
        },
        "id": "NRyvjECS1JZP",
        "outputId": "f17b6396-de3a-47c9-9023-e8ab89c25019"
      },
      "execution_count": 38,
      "outputs": [
        {
          "output_type": "execute_result",
          "data": {
            "text/plain": [
              "(2.4849066497880004, 162754.79141900392, 3.4641016151377544, 4.584962500721156)"
            ]
          },
          "metadata": {},
          "execution_count": 38
        }
      ]
    },
    {
      "cell_type": "markdown",
      "source": [
        "9. Create a function that takes a full name as an argument and returns first name and last name."
      ],
      "metadata": {
        "id": "ltRQkuBo4g1n"
      }
    },
    {
      "cell_type": "code",
      "source": [
        "x=str(input(\"enter tha name: \"))\n",
        "def name(x):\n",
        "  a=x.split(\" \")\n",
        "  return a[0],a[1]"
      ],
      "metadata": {
        "colab": {
          "base_uri": "https://localhost:8080/"
        },
        "id": "JF3iy_y_1JWM",
        "outputId": "4d9a76b3-faa3-41c7-b4c7-394eec7cc557"
      },
      "execution_count": 39,
      "outputs": [
        {
          "name": "stdout",
          "output_type": "stream",
          "text": [
            "enter tha name: arijit dey\n"
          ]
        }
      ]
    },
    {
      "cell_type": "code",
      "source": [
        "name(x)"
      ],
      "metadata": {
        "colab": {
          "base_uri": "https://localhost:8080/"
        },
        "id": "yRGGUif41JTe",
        "outputId": "1f17cf39-a8ab-47a9-94dd-93fd0d256c17"
      },
      "execution_count": 40,
      "outputs": [
        {
          "output_type": "execute_result",
          "data": {
            "text/plain": [
              "('arijit', 'dey')"
            ]
          },
          "metadata": {},
          "execution_count": 40
        }
      ]
    },
    {
      "cell_type": "code",
      "source": [],
      "metadata": {
        "id": "wRpa64ga1JOl"
      },
      "execution_count": null,
      "outputs": []
    },
    {
      "cell_type": "code",
      "source": [],
      "metadata": {
        "id": "SYrC8Wik1JMT"
      },
      "execution_count": null,
      "outputs": []
    },
    {
      "cell_type": "code",
      "source": [],
      "metadata": {
        "id": "1F9Ii35E1JJ2"
      },
      "execution_count": null,
      "outputs": []
    },
    {
      "cell_type": "code",
      "source": [],
      "metadata": {
        "id": "DL5axjcW1JDS"
      },
      "execution_count": null,
      "outputs": []
    },
    {
      "cell_type": "code",
      "source": [],
      "metadata": {
        "id": "NNF60EXP1JAt"
      },
      "execution_count": null,
      "outputs": []
    },
    {
      "cell_type": "code",
      "source": [],
      "metadata": {
        "id": "168_qNdh1I-T"
      },
      "execution_count": null,
      "outputs": []
    },
    {
      "cell_type": "code",
      "source": [],
      "metadata": {
        "id": "-ifIj4HN1I7o"
      },
      "execution_count": null,
      "outputs": []
    },
    {
      "cell_type": "code",
      "source": [],
      "metadata": {
        "id": "XFqwPnqJ1I2K"
      },
      "execution_count": null,
      "outputs": []
    },
    {
      "cell_type": "code",
      "source": [],
      "metadata": {
        "id": "XLDscnqQXyf9"
      },
      "execution_count": null,
      "outputs": []
    },
    {
      "cell_type": "code",
      "source": [],
      "metadata": {
        "id": "WeODwAITXydj"
      },
      "execution_count": null,
      "outputs": []
    },
    {
      "cell_type": "code",
      "source": [],
      "metadata": {
        "id": "UH-PDPDUXFw-"
      },
      "execution_count": null,
      "outputs": []
    }
  ]
}
{
  "nbformat": 4,
  "nbformat_minor": 0,
  "metadata": {
    "colab": {
      "provenance": []
    },
    "kernelspec": {
      "name": "python3",
      "display_name": "Python 3"
    },
    "language_info": {
      "name": "python"
    }
  },
  "cells": [
    {
      "cell_type": "markdown",
      "source": [
        "1. What exactly is []?\n",
        "\n",
        "this is empty list."
      ],
      "metadata": {
        "id": "GTKoa2TQo3ac"
      }
    },
    {
      "cell_type": "markdown",
      "source": [
        "2. In a list of values stored in a variable called spam, how would you assign the value &#39;hello&#39; as the\n",
        "third value? (Assume [2, 4, 6, 8, 10] are in spam.)"
      ],
      "metadata": {
        "id": "IWYVC3K3o7j9"
      }
    },
    {
      "cell_type": "code",
      "execution_count": 1,
      "metadata": {
        "id": "YYAa3D2Io0Ga"
      },
      "outputs": [],
      "source": [
        "spam=[2,4,6,8,10]"
      ]
    },
    {
      "cell_type": "code",
      "source": [
        "spam.insert(2,\"hello\")"
      ],
      "metadata": {
        "id": "yiUV4AAQpGye"
      },
      "execution_count": 2,
      "outputs": []
    },
    {
      "cell_type": "code",
      "source": [
        "spam"
      ],
      "metadata": {
        "colab": {
          "base_uri": "https://localhost:8080/"
        },
        "id": "VGgnkkHlpK_N",
        "outputId": "54e7ea70-e936-4eda-9ecc-3a1b4058914c"
      },
      "execution_count": 3,
      "outputs": [
        {
          "output_type": "execute_result",
          "data": {
            "text/plain": [
              "[2, 4, 'hello', 6, 8, 10]"
            ]
          },
          "metadata": {},
          "execution_count": 3
        }
      ]
    },
    {
      "cell_type": "markdown",
      "source": [
        "Let&#39;s pretend the spam includes the list [&#39;a&#39;, &#39;b&#39;, &#39;c&#39;, &#39;d&#39;] for the next three queries."
      ],
      "metadata": {
        "id": "OK8nQaVUpZeV"
      }
    },
    {
      "cell_type": "code",
      "source": [
        "spam=(\"a b c d\").split()"
      ],
      "metadata": {
        "id": "3CNiB4RMpL53"
      },
      "execution_count": 4,
      "outputs": []
    },
    {
      "cell_type": "code",
      "source": [
        "spam"
      ],
      "metadata": {
        "colab": {
          "base_uri": "https://localhost:8080/"
        },
        "id": "41KNXxTppegt",
        "outputId": "fb054be3-4662-4d05-8289-47a86215d1e3"
      },
      "execution_count": 5,
      "outputs": [
        {
          "output_type": "execute_result",
          "data": {
            "text/plain": [
              "['a', 'b', 'c', 'd']"
            ]
          },
          "metadata": {},
          "execution_count": 5
        }
      ]
    },
    {
      "cell_type": "markdown",
      "source": [
        "3. What is the value of spam[int(int(&#39;3&#39; * 2) / 11)]?"
      ],
      "metadata": {
        "id": "sY2CfpdGptDX"
      }
    },
    {
      "cell_type": "code",
      "source": [
        "spam[int(int('3' * 2) / 11)]"
      ],
      "metadata": {
        "colab": {
          "base_uri": "https://localhost:8080/",
          "height": 35
        },
        "id": "Pxkvigh9pfY9",
        "outputId": "ad7dd1c0-95b4-4b4c-961a-14c20f591cb7"
      },
      "execution_count": 6,
      "outputs": [
        {
          "output_type": "execute_result",
          "data": {
            "text/plain": [
              "'d'"
            ],
            "application/vnd.google.colaboratory.intrinsic+json": {
              "type": "string"
            }
          },
          "metadata": {},
          "execution_count": 6
        }
      ]
    },
    {
      "cell_type": "markdown",
      "source": [
        "4. What is the value of spam[-1]?"
      ],
      "metadata": {
        "id": "6v97QgLXp1OD"
      }
    },
    {
      "cell_type": "code",
      "source": [
        "spam[-1]\n"
      ],
      "metadata": {
        "colab": {
          "base_uri": "https://localhost:8080/",
          "height": 35
        },
        "id": "xFM-ci9bpwxv",
        "outputId": "794fadbe-8f95-4328-bbf5-c6dbfa11146a"
      },
      "execution_count": 7,
      "outputs": [
        {
          "output_type": "execute_result",
          "data": {
            "text/plain": [
              "'d'"
            ],
            "application/vnd.google.colaboratory.intrinsic+json": {
              "type": "string"
            }
          },
          "metadata": {},
          "execution_count": 7
        }
      ]
    },
    {
      "cell_type": "markdown",
      "source": [
        "5. What is the value of spam[:2]?"
      ],
      "metadata": {
        "id": "F2U-9c73p8SJ"
      }
    },
    {
      "cell_type": "code",
      "source": [
        "spam[:2]"
      ],
      "metadata": {
        "colab": {
          "base_uri": "https://localhost:8080/"
        },
        "id": "NXhCbEEFp7JO",
        "outputId": "150c7721-7204-4b9f-c374-20e4f9875210"
      },
      "execution_count": 8,
      "outputs": [
        {
          "output_type": "execute_result",
          "data": {
            "text/plain": [
              "['a', 'b']"
            ]
          },
          "metadata": {},
          "execution_count": 8
        }
      ]
    },
    {
      "cell_type": "markdown",
      "source": [
        "Let&#39;s pretend bacon has the list [3.14, &#39;cat,&#39; 11, &#39;cat,&#39; True] for the next three questions."
      ],
      "metadata": {
        "id": "RP15N3AbqBbx"
      }
    },
    {
      "cell_type": "code",
      "source": [
        "bacon=[3.14,\"cat\",11,\"cat\",True]"
      ],
      "metadata": {
        "id": "o1DunECSp_2s"
      },
      "execution_count": 9,
      "outputs": []
    },
    {
      "cell_type": "markdown",
      "source": [
        "6. What is the value of bacon.index(&#39;cat&#39;)?"
      ],
      "metadata": {
        "id": "NGKEPMqsqQA-"
      }
    },
    {
      "cell_type": "code",
      "source": [
        "bacon.index('cat')"
      ],
      "metadata": {
        "colab": {
          "base_uri": "https://localhost:8080/"
        },
        "id": "ss_qQLinqOsU",
        "outputId": "c79996c4-a22c-4de7-b04e-3ddbdd2f3548"
      },
      "execution_count": 10,
      "outputs": [
        {
          "output_type": "execute_result",
          "data": {
            "text/plain": [
              "1"
            ]
          },
          "metadata": {},
          "execution_count": 10
        }
      ]
    },
    {
      "cell_type": "markdown",
      "source": [
        "7. How does bacon.append(99) change the look of the list value in bacon?"
      ],
      "metadata": {
        "id": "2cBWiVm0qXhW"
      }
    },
    {
      "cell_type": "code",
      "source": [
        "bacon.append(99)"
      ],
      "metadata": {
        "id": "ihcThDjOqVqk"
      },
      "execution_count": 11,
      "outputs": []
    },
    {
      "cell_type": "code",
      "source": [
        "bacon"
      ],
      "metadata": {
        "colab": {
          "base_uri": "https://localhost:8080/"
        },
        "id": "qVO2yhCSqepx",
        "outputId": "d430537f-1c03-4538-c6e5-f906359dbe38"
      },
      "execution_count": 12,
      "outputs": [
        {
          "output_type": "execute_result",
          "data": {
            "text/plain": [
              "[3.14, 'cat', 11, 'cat', True, 99]"
            ]
          },
          "metadata": {},
          "execution_count": 12
        }
      ]
    },
    {
      "cell_type": "markdown",
      "source": [
        "8. How does bacon.remove(&#39;cat&#39;) change the look of the list in bacon?"
      ],
      "metadata": {
        "id": "9l2vD8WYqlEH"
      }
    },
    {
      "cell_type": "code",
      "source": [
        "bacon.remove('cat')"
      ],
      "metadata": {
        "id": "zNnwzMBFqlqJ"
      },
      "execution_count": 13,
      "outputs": []
    },
    {
      "cell_type": "code",
      "source": [
        "bacon"
      ],
      "metadata": {
        "colab": {
          "base_uri": "https://localhost:8080/"
        },
        "id": "E6QkaN4lqmMf",
        "outputId": "ee8cd911-098a-4107-bb9e-430929bb4ba5"
      },
      "execution_count": 14,
      "outputs": [
        {
          "output_type": "execute_result",
          "data": {
            "text/plain": [
              "[3.14, 11, 'cat', True, 99]"
            ]
          },
          "metadata": {},
          "execution_count": 14
        }
      ]
    },
    {
      "cell_type": "markdown",
      "source": [
        "9. What are the list concatenation and list replication operators?\n",
        "\n",
        "\"*\"---> replication oparator\n",
        "\n",
        "\"+\" ----> concatenation oparator"
      ],
      "metadata": {
        "id": "CA9UkLm7qtdo"
      }
    },
    {
      "cell_type": "code",
      "source": [
        "l1=[2,3]"
      ],
      "metadata": {
        "id": "ISHElT6LqmJZ"
      },
      "execution_count": 15,
      "outputs": []
    },
    {
      "cell_type": "code",
      "source": [
        "l2=[5,6]"
      ],
      "metadata": {
        "id": "lRx4wqUxqmHT"
      },
      "execution_count": 16,
      "outputs": []
    },
    {
      "cell_type": "code",
      "source": [
        "l1+l2"
      ],
      "metadata": {
        "colab": {
          "base_uri": "https://localhost:8080/"
        },
        "id": "fwpsUKFZqmEv",
        "outputId": "f0a91ac6-f9b6-4500-c526-244b7154cd9f"
      },
      "execution_count": 17,
      "outputs": [
        {
          "output_type": "execute_result",
          "data": {
            "text/plain": [
              "[2, 3, 5, 6]"
            ]
          },
          "metadata": {},
          "execution_count": 17
        }
      ]
    },
    {
      "cell_type": "code",
      "source": [
        "l1*2"
      ],
      "metadata": {
        "colab": {
          "base_uri": "https://localhost:8080/"
        },
        "id": "t4sDs0ToqmCC",
        "outputId": "db38ed11-904b-4608-a06c-9a41d01bb81e"
      },
      "execution_count": 18,
      "outputs": [
        {
          "output_type": "execute_result",
          "data": {
            "text/plain": [
              "[2, 3, 2, 3]"
            ]
          },
          "metadata": {},
          "execution_count": 18
        }
      ]
    },
    {
      "cell_type": "markdown",
      "source": [
        "10. What is difference between the list methods append() and insert()?\n",
        "\n",
        "in append we cant choose index , data is added at last of list\n",
        "\n",
        "in insert we choos our index for new data."
      ],
      "metadata": {
        "id": "SuJ4UK-srQd2"
      }
    },
    {
      "cell_type": "markdown",
      "source": [
        "11. What are the two methods for removing items from a list?\n",
        "\n",
        "\n",
        "1. pop  --->\n",
        "\n",
        "2.remove\n"
      ],
      "metadata": {
        "id": "sYBQ-kyMrkjl"
      }
    },
    {
      "cell_type": "markdown",
      "source": [
        "12. Describe how list values and string values are identical.\n",
        "\n",
        "Both lists and strings can be passed to len()\n",
        "\n",
        "Have indexes and slices\n",
        "\n",
        "Can be used in for loops\n",
        "\n",
        "Can be concatenated or replicated\n",
        "\n",
        "Can be used with the in and not in operators"
      ],
      "metadata": {
        "id": "hTlLgiNYrxUT"
      }
    },
    {
      "cell_type": "markdown",
      "source": [
        "13. What&#39;s the difference between tuples and lists?\n",
        "\n",
        "\n",
        "tuple--> it is not mutable and always use ().\n",
        "\n",
        "list---> this is mutable and use []."
      ],
      "metadata": {
        "id": "8cZxSzlrsf0O"
      }
    },
    {
      "cell_type": "markdown",
      "source": [
        "14. How do you type a tuple value that only contains the integer 42?"
      ],
      "metadata": {
        "id": "lDkrbWH4s111"
      }
    },
    {
      "cell_type": "code",
      "source": [
        "t=(45,)"
      ],
      "metadata": {
        "id": "Pks-Yj_6rQCI"
      },
      "execution_count": 21,
      "outputs": []
    },
    {
      "cell_type": "code",
      "source": [
        "type(t)"
      ],
      "metadata": {
        "colab": {
          "base_uri": "https://localhost:8080/"
        },
        "id": "TZU4gTHkrP_z",
        "outputId": "ca7a7a93-ef51-4817-b2f8-933024644a29"
      },
      "execution_count": 22,
      "outputs": [
        {
          "output_type": "execute_result",
          "data": {
            "text/plain": [
              "tuple"
            ]
          },
          "metadata": {},
          "execution_count": 22
        }
      ]
    },
    {
      "cell_type": "markdown",
      "source": [
        "15. How do you get a list value&#39;s tuple form? How do you get a tuple value&#39;s list form?"
      ],
      "metadata": {
        "id": "1HY4A5cMtFAq"
      }
    },
    {
      "cell_type": "code",
      "source": [
        "x=(1,2,4)"
      ],
      "metadata": {
        "id": "yjqXwvYTrP9M"
      },
      "execution_count": 23,
      "outputs": []
    },
    {
      "cell_type": "code",
      "source": [
        "y=[\"a\",\"b\",\"c\"]"
      ],
      "metadata": {
        "id": "WyBCR3gqrP67"
      },
      "execution_count": 24,
      "outputs": []
    },
    {
      "cell_type": "code",
      "source": [
        "tuple(y)"
      ],
      "metadata": {
        "colab": {
          "base_uri": "https://localhost:8080/"
        },
        "id": "eAjyxelqrP4U",
        "outputId": "101bfebf-39cd-4b87-dd89-8241befad7ce"
      },
      "execution_count": 26,
      "outputs": [
        {
          "output_type": "execute_result",
          "data": {
            "text/plain": [
              "('a', 'b', 'c')"
            ]
          },
          "metadata": {},
          "execution_count": 26
        }
      ]
    },
    {
      "cell_type": "code",
      "source": [
        "list(x)"
      ],
      "metadata": {
        "colab": {
          "base_uri": "https://localhost:8080/"
        },
        "id": "-YPkyeeBrP12",
        "outputId": "e5b30450-6e38-4d79-f3a0-374fb7fd668f"
      },
      "execution_count": 27,
      "outputs": [
        {
          "output_type": "execute_result",
          "data": {
            "text/plain": [
              "[1, 2, 4]"
            ]
          },
          "metadata": {},
          "execution_count": 27
        }
      ]
    },
    {
      "cell_type": "markdown",
      "source": [
        "16. Variables that &quot;contain&quot; list values are not necessarily lists themselves. Instead, what do they\n",
        "contain?\n",
        "\n",
        " They contain references to list values"
      ],
      "metadata": {
        "id": "IRiCANZ5taKl"
      }
    },
    {
      "cell_type": "markdown",
      "source": [
        "17. How do you distinguish between copy.copy() and copy.deepcopy()?\n",
        "\n",
        " The copy.copy() function will do a shallow copy of a list\n",
        "\n",
        " copy.deepcopy() will duplicate any lists inside the list"
      ],
      "metadata": {
        "id": "hA8BLTlttsqP"
      }
    },
    {
      "cell_type": "code",
      "source": [],
      "metadata": {
        "id": "a6O2p1qarPzW"
      },
      "execution_count": null,
      "outputs": []
    },
    {
      "cell_type": "code",
      "source": [],
      "metadata": {
        "id": "Tu2PNhycrPxc"
      },
      "execution_count": null,
      "outputs": []
    },
    {
      "cell_type": "code",
      "source": [],
      "metadata": {
        "id": "zfEa0H1vrPuv"
      },
      "execution_count": null,
      "outputs": []
    },
    {
      "cell_type": "code",
      "source": [],
      "metadata": {
        "id": "U2DMkFI2rPsH"
      },
      "execution_count": null,
      "outputs": []
    },
    {
      "cell_type": "code",
      "source": [],
      "metadata": {
        "id": "0aD4XT46rPpg"
      },
      "execution_count": null,
      "outputs": []
    },
    {
      "cell_type": "code",
      "source": [],
      "metadata": {
        "id": "rOGSNfyBqfns"
      },
      "execution_count": null,
      "outputs": []
    }
  ]
}
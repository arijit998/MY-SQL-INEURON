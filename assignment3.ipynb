{
  "nbformat": 4,
  "nbformat_minor": 0,
  "metadata": {
    "colab": {
      "provenance": []
    },
    "kernelspec": {
      "name": "python3",
      "display_name": "Python 3"
    },
    "language_info": {
      "name": "python"
    }
  },
  "cells": [
    {
      "cell_type": "code",
      "execution_count": null,
      "metadata": {
        "id": "C0iTgx1cW1bJ"
      },
      "outputs": [],
      "source": [
        "1. Why are functions advantageous to have in your programs?\n",
        "\n",
        "we reuse our code again and again."
      ]
    },
    {
      "cell_type": "markdown",
      "source": [
        "2. When does the code in a function run: when it&#39;s specified or when it&#39;s called?\n",
        "\n",
        "when we call the function."
      ],
      "metadata": {
        "id": "dnQome-CXROM"
      }
    },
    {
      "cell_type": "markdown",
      "source": [
        "3. What statement creates a function?"
      ],
      "metadata": {
        "id": "RFGd4rAmXeA8"
      }
    },
    {
      "cell_type": "code",
      "source": [
        "def func(x,y):\n",
        "  return (x+y)"
      ],
      "metadata": {
        "id": "lwzEvo3iXJvO"
      },
      "execution_count": 1,
      "outputs": []
    },
    {
      "cell_type": "code",
      "source": [
        "func(4,7)"
      ],
      "metadata": {
        "colab": {
          "base_uri": "https://localhost:8080/"
        },
        "id": "fWJLWPupXJsi",
        "outputId": "637e7658-4c56-4d82-e017-9c4296ccd23b"
      },
      "execution_count": 2,
      "outputs": [
        {
          "output_type": "execute_result",
          "data": {
            "text/plain": [
              "11"
            ]
          },
          "metadata": {},
          "execution_count": 2
        }
      ]
    },
    {
      "cell_type": "markdown",
      "source": [
        "4. What is the difference between a function and a function call?\n",
        "\n",
        "fuction consists  block codes which perform specific task\n",
        "\n",
        "when we call the function at this time we invoke expression and get a value"
      ],
      "metadata": {
        "id": "CRFjnoZAXvXO"
      }
    },
    {
      "cell_type": "markdown",
      "source": [
        "5. How many global scopes are there in a Python program? How many local scopes?\n",
        "  \n",
        "   one global Python scope per program execution\n",
        "\n",
        "   local scope is created when we call the function.\n",
        "\n"
      ],
      "metadata": {
        "id": "RTo_baPLYhG-"
      }
    },
    {
      "cell_type": "markdown",
      "source": [
        "Q6. What happens to variables in a local scope when the function call returns?\n",
        "\n",
        "  When a function returns, the local scope is destroyed.\n"
      ],
      "metadata": {
        "id": "-nALIg7cZiZP"
      }
    },
    {
      "cell_type": "markdown",
      "source": [
        "7. What is the concept of a return value? Is it possible to have a return value in an expression?\n",
        "\n",
        "A return value is the value that a function call evaluates to\n",
        "\n",
        "\n",
        "yes\n"
      ],
      "metadata": {
        "id": "hbQlY1rwZu9q"
      }
    },
    {
      "cell_type": "markdown",
      "source": [
        "8. If a function does not have a return statement, what is the return value of a call to that function?\n",
        "\n",
        "\n",
        "If the funtion does not have a return statement it will not return anything."
      ],
      "metadata": {
        "id": "D8So1axdl4e7"
      }
    },
    {
      "cell_type": "markdown",
      "source": [
        "9. How do you make a function variable refer to the global variable?\n",
        "\n",
        "To make function variable as a global variable you can use the global keyword to declare which variables are global."
      ],
      "metadata": {
        "id": "J68ZQ6ammDcM"
      }
    },
    {
      "cell_type": "markdown",
      "source": [
        "10. What is the data type of None?\n",
        "\n",
        "The data type of None is NoneType.\n"
      ],
      "metadata": {
        "id": "wPuzewfmmWj5"
      }
    },
    {
      "cell_type": "markdown",
      "source": [
        "11. What does the sentence import areallyourpetsnamederic do?\n",
        "\n",
        "That import statement imports a module named areallyourpetsnamederic. (But a module of this name doesnt exists in Python)\n"
      ],
      "metadata": {
        "id": "JcitMzVYmcrx"
      }
    },
    {
      "cell_type": "markdown",
      "source": [
        "12. If you had a bacon() feature in a spam module, what would you call it after importing spam?\n",
        "\n",
        "spam.bacon()\n"
      ],
      "metadata": {
        "id": "VC8ggIzImxb2"
      }
    },
    {
      "cell_type": "markdown",
      "source": [
        "13. What can you do to save a programme from crashing if it encounters an error?\n",
        "\n",
        "We can use try except clause to save a program from crashing."
      ],
      "metadata": {
        "id": "zWqpV_CWm4Tc"
      }
    },
    {
      "cell_type": "markdown",
      "source": [
        "14. What is the purpose of the try clause? What is the purpose of the except clause?\n",
        "\n",
        "\n",
        "try block is used to check some code.inside the try block we execute our codes.\n",
        "\n",
        "the code inside the except block will execute whenever the program encounters some error in the try block.\n",
        "\n",
        "\n",
        "\n",
        "here x is not defined so except block became triggered."
      ],
      "metadata": {
        "id": "7zmH_rW_nDTQ"
      }
    },
    {
      "cell_type": "code",
      "source": [
        "try:\n",
        "  print(x)\n",
        "except:\n",
        "  print(\"this value is not exist\")"
      ],
      "metadata": {
        "colab": {
          "base_uri": "https://localhost:8080/"
        },
        "id": "W-b4mFhHXJnu",
        "outputId": "21453f6f-966f-4a69-d65a-c01d629f9b05"
      },
      "execution_count": 3,
      "outputs": [
        {
          "output_type": "stream",
          "name": "stdout",
          "text": [
            "this value is not exist\n"
          ]
        }
      ]
    },
    {
      "cell_type": "code",
      "source": [],
      "metadata": {
        "id": "dml5Mto7XJlI"
      },
      "execution_count": null,
      "outputs": []
    },
    {
      "cell_type": "code",
      "source": [],
      "metadata": {
        "id": "ZLCvUa5nXJiw"
      },
      "execution_count": null,
      "outputs": []
    },
    {
      "cell_type": "code",
      "source": [],
      "metadata": {
        "id": "jMnzb3w6XJgq"
      },
      "execution_count": null,
      "outputs": []
    },
    {
      "cell_type": "code",
      "source": [],
      "metadata": {
        "id": "969TGJpYXJeK"
      },
      "execution_count": null,
      "outputs": []
    },
    {
      "cell_type": "code",
      "source": [],
      "metadata": {
        "id": "E2E0dP33XJcA"
      },
      "execution_count": null,
      "outputs": []
    },
    {
      "cell_type": "code",
      "source": [],
      "metadata": {
        "id": "Rf-0PnC2XJZT"
      },
      "execution_count": null,
      "outputs": []
    }
  ]
}
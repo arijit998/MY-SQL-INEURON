{
  "nbformat": 4,
  "nbformat_minor": 0,
  "metadata": {
    "colab": {
      "provenance": [],
      "authorship_tag": "ABX9TyMwKDY1abnU9Gj05ViuETyl",
      "include_colab_link": true
    },
    "kernelspec": {
      "name": "python3",
      "display_name": "Python 3"
    },
    "language_info": {
      "name": "python"
    }
  },
  "cells": [
    {
      "cell_type": "markdown",
      "metadata": {
        "id": "view-in-github",
        "colab_type": "text"
      },
      "source": [
        "<a href=\"https://colab.research.google.com/github/arijit998/MY-SQL-INEURON/blob/main/folder_template.ipynb\" target=\"_parent\"><img src=\"https://colab.research.google.com/assets/colab-badge.svg\" alt=\"Open In Colab\"/></a>"
      ]
    },
    {
      "cell_type": "code",
      "execution_count": 58,
      "metadata": {
        "id": "7k62eF5fhD8j"
      },
      "outputs": [],
      "source": [
        "import  os"
      ]
    },
    {
      "cell_type": "code",
      "source": [
        "from pathlib import Path"
      ],
      "metadata": {
        "id": "9dBcc6ls4dvZ"
      },
      "execution_count": 59,
      "outputs": []
    },
    {
      "cell_type": "code",
      "source": [
        "p=\"dimpond price prediction\""
      ],
      "metadata": {
        "id": "SvD2DYkgDrBQ"
      },
      "execution_count": 60,
      "outputs": []
    },
    {
      "cell_type": "code",
      "source": [
        "l=[\"github/workflow/.gitkeep\",\n",
        "   f\"src/{p}/components/__init__.py\",\n",
        "   f\"src/{p}/components/data_ignestion.py\",\n",
        "   f\"src/{p}/components/model_trainer.py\",\n",
        "   f\"src/{p}/pipelines/__init__.py\",\n",
        "   f\"src/{p}/pipelines/training_pipeline.py\",\n",
        "   f\"src/{p}/pipelines/prediction_pipeline.py\",\n",
        "   f\"src/{p}/logger.py\",\n",
        "   f\"src/{p}/exception.py\",\n",
        "   f\"src/{p}/utils/__init__.py\",\n",
        "   \"notebook/resarch.ipynb\",\n",
        "   \"notebook/data/.gitkeep\",\n",
        "   \"requrement.txt\",\n",
        "   \"setup.py\",\n",
        "   \"init_setup.sh\" ]"
      ],
      "metadata": {
        "id": "xk7g0Q5sD65f"
      },
      "execution_count": 69,
      "outputs": []
    },
    {
      "cell_type": "code",
      "source": [
        "for i in l:\n",
        "  folder_path=Path(i)\n",
        "  dir,file_n=os.path.split(folder_path)\n",
        "  if dir!=\"\":\n",
        "    os.makedirs(dir,exist_ok=True)\n",
        "  if (not os.path.exists(folder_path))or(os.path.getsize(folder_path) == 0):\n",
        "      with open(folder_path,\"w\") as f:\n",
        "        pass\n",
        "  else:\n",
        "    print(\"file is exist\")"
      ],
      "metadata": {
        "id": "uts1F3bYFkxY"
      },
      "execution_count": 70,
      "outputs": []
    },
    {
      "cell_type": "code",
      "source": [],
      "metadata": {
        "id": "FuQ_o6GcF9XN"
      },
      "execution_count": 43,
      "outputs": []
    }
  ]
}
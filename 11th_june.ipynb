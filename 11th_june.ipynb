{
  "nbformat": 4,
  "nbformat_minor": 0,
  "metadata": {
    "colab": {
      "provenance": []
    },
    "kernelspec": {
      "name": "python3",
      "display_name": "Python 3"
    },
    "language_info": {
      "name": "python"
    }
  },
  "cells": [
    {
      "cell_type": "markdown",
      "source": [
        "1. What is a lambda function in Python, and how does it differ from a regular function?\n",
        "\n",
        "it same as user define function without name."
      ],
      "metadata": {
        "id": "u9QDlrwq6WCg"
      }
    },
    {
      "cell_type": "markdown",
      "source": [
        "2. Can a lambda function in Python have multiple arguments? If yes, how can you define and use\n",
        "them?\n",
        "\n",
        "\n",
        "yes, it has.\n"
      ],
      "metadata": {
        "id": "o6qYC4SZ6e_k"
      }
    },
    {
      "cell_type": "code",
      "execution_count": null,
      "metadata": {
        "id": "tb23v0tO5Oi4"
      },
      "outputs": [],
      "source": [
        "z=lambda a,x: a*x"
      ]
    },
    {
      "cell_type": "code",
      "source": [
        "z(12,2)"
      ],
      "metadata": {
        "colab": {
          "base_uri": "https://localhost:8080/"
        },
        "id": "ziymC_um7Woy",
        "outputId": "c5908e47-5997-4733-c9e5-b0a37b48e634"
      },
      "execution_count": null,
      "outputs": [
        {
          "output_type": "execute_result",
          "data": {
            "text/plain": [
              "24"
            ]
          },
          "metadata": {},
          "execution_count": 4
        }
      ]
    },
    {
      "cell_type": "markdown",
      "source": [
        "3. How are lambda functions typically used in Python? Provide an example use case."
      ],
      "metadata": {
        "id": "obUUbYbe7d3J"
      }
    },
    {
      "cell_type": "code",
      "source": [
        "q=lambda x: 3*x"
      ],
      "metadata": {
        "id": "b3mCbwYN7gPt"
      },
      "execution_count": null,
      "outputs": []
    },
    {
      "cell_type": "code",
      "source": [
        "q(4)"
      ],
      "metadata": {
        "colab": {
          "base_uri": "https://localhost:8080/"
        },
        "id": "l2N2lVYm7hgL",
        "outputId": "a5592159-5137-479b-c7c3-42c96c56fee0"
      },
      "execution_count": null,
      "outputs": [
        {
          "output_type": "execute_result",
          "data": {
            "text/plain": [
              "12"
            ]
          },
          "metadata": {},
          "execution_count": 6
        }
      ]
    },
    {
      "cell_type": "markdown",
      "source": [
        "4. What are the advantages and limitations of lambda functions compared to regular functions in\n",
        "Python?\n",
        "\n",
        "Lambda functions can only have one expression in their body. Regular functions can have multiple expressions and statements in their body. Lambdas do not have a name associated with them. That's why they are also known as anonymous functions"
      ],
      "metadata": {
        "id": "D6ttJZb370oa"
      }
    },
    {
      "cell_type": "markdown",
      "source": [
        "5. Are lambda functions in Python able to access variables defined outside of their own scope?\n",
        "Explain with an example.\n",
        "\n",
        "\n",
        "cannot access variables other than those in their parameter list and those in the global namespace."
      ],
      "metadata": {
        "id": "lPedxA2Y8L0t"
      }
    },
    {
      "cell_type": "code",
      "source": [
        "z=7\n",
        "x=lambda z: z"
      ],
      "metadata": {
        "id": "j0_y2TJs7hdc"
      },
      "execution_count": null,
      "outputs": []
    },
    {
      "cell_type": "code",
      "source": [
        "x(z)"
      ],
      "metadata": {
        "colab": {
          "base_uri": "https://localhost:8080/"
        },
        "id": "Ej08a5nf7hbn",
        "outputId": "c29ae2a0-56f4-49ae-de5f-ae5acc59a049"
      },
      "execution_count": null,
      "outputs": [
        {
          "output_type": "execute_result",
          "data": {
            "text/plain": [
              "7"
            ]
          },
          "metadata": {},
          "execution_count": 12
        }
      ]
    },
    {
      "cell_type": "markdown",
      "source": [
        "6. Write a lambda function to calculate the square of a given number."
      ],
      "metadata": {
        "id": "Hlfnm4WgCQpM"
      }
    },
    {
      "cell_type": "code",
      "source": [
        "z=lambda x: x**2"
      ],
      "metadata": {
        "id": "ZNbGJgHt7hYz"
      },
      "execution_count": null,
      "outputs": []
    },
    {
      "cell_type": "code",
      "source": [
        "z(7)"
      ],
      "metadata": {
        "colab": {
          "base_uri": "https://localhost:8080/"
        },
        "id": "t0nVX1pF7hVw",
        "outputId": "ec05f66c-5b04-4de5-9fa1-6a869b7e86af"
      },
      "execution_count": null,
      "outputs": [
        {
          "output_type": "execute_result",
          "data": {
            "text/plain": [
              "49"
            ]
          },
          "metadata": {},
          "execution_count": 14
        }
      ]
    },
    {
      "cell_type": "markdown",
      "source": [
        "7. Create a lambda function to find the maximum value in a list of integers."
      ],
      "metadata": {
        "id": "LaXyYhx8Cu-B"
      }
    },
    {
      "cell_type": "code",
      "source": [
        "from functools import reduce\n",
        "list = [19, 7, 17, 97, 5]\n",
        "maximum = reduce(lambda x, y: x if x >= y else y, list)\n",
        "print(maximum)"
      ],
      "metadata": {
        "colab": {
          "base_uri": "https://localhost:8080/"
        },
        "id": "QyPzl1LN7hTc",
        "outputId": "26ed54c1-2310-41f4-b2f5-41e6fbea5c70"
      },
      "execution_count": null,
      "outputs": [
        {
          "output_type": "stream",
          "name": "stdout",
          "text": [
            "97\n"
          ]
        }
      ]
    },
    {
      "cell_type": "code",
      "source": [
        "list = [19, 7, 17, 97, 5]\n",
        "max(list,key=lambda x: x )"
      ],
      "metadata": {
        "colab": {
          "base_uri": "https://localhost:8080/"
        },
        "id": "VK4ZYrzMo5RE",
        "outputId": "d29e7c22-b384-470f-da3d-7521edd334b2"
      },
      "execution_count": null,
      "outputs": [
        {
          "output_type": "execute_result",
          "data": {
            "text/plain": [
              "97"
            ]
          },
          "metadata": {},
          "execution_count": 27
        }
      ]
    },
    {
      "cell_type": "markdown",
      "source": [
        "8. Implement a lambda function to filter out all the even numbers from a list of integers."
      ],
      "metadata": {
        "id": "DYAhzW9TDc8E"
      }
    },
    {
      "cell_type": "code",
      "source": [
        "l= [19, 8, 20, 97, 5]\n",
        "c=list(filter(lambda x: x%2==0 ,l))"
      ],
      "metadata": {
        "id": "qRKa-CVT7hRL"
      },
      "execution_count": null,
      "outputs": []
    },
    {
      "cell_type": "code",
      "source": [
        "print(c)"
      ],
      "metadata": {
        "colab": {
          "base_uri": "https://localhost:8080/"
        },
        "id": "BLrcT_Nq7hOl",
        "outputId": "0cd4f03c-53e4-41fa-9836-3358a8ed0ac9"
      },
      "execution_count": null,
      "outputs": [
        {
          "output_type": "stream",
          "name": "stdout",
          "text": [
            "[8, 20]\n"
          ]
        }
      ]
    },
    {
      "cell_type": "markdown",
      "source": [
        "9. Write a lambda function to sort a list of strings in ascending order based on the length of each\n",
        "string."
      ],
      "metadata": {
        "id": "YGi0BcoflEO2"
      }
    },
    {
      "cell_type": "code",
      "source": [
        "l=(\"arijit avijit rajib abhishek\").split()\n",
        "sorted(l,key=lambda x: len(x))"
      ],
      "metadata": {
        "id": "5CpQCRbk7hJS",
        "colab": {
          "base_uri": "https://localhost:8080/"
        },
        "outputId": "0bcbdcf4-ce64-4027-df7a-0b116e5a83c1"
      },
      "execution_count": null,
      "outputs": [
        {
          "output_type": "execute_result",
          "data": {
            "text/plain": [
              "['rajib', 'arijit', 'avijit', 'abhishek']"
            ]
          },
          "metadata": {},
          "execution_count": 22
        }
      ]
    },
    {
      "cell_type": "markdown",
      "source": [
        "10. Create a lambda function that takes two lists as input and returns a new list containing the\n",
        "common elements between the two lists."
      ],
      "metadata": {
        "id": "_nB_fTzhn9XI"
      }
    },
    {
      "cell_type": "code",
      "source": [
        "l=(\"arijit avijit rajib abhishek\").split()\n",
        "l1=(\"arijit1 avijit rajib2 abhishek\").split()"
      ],
      "metadata": {
        "id": "T5mnMiL17hB7"
      },
      "execution_count": 1,
      "outputs": []
    },
    {
      "cell_type": "code",
      "source": [
        "for i in l:\n",
        "  for j in l1:\n",
        "    if j==i:\n",
        "      print(i)"
      ],
      "metadata": {
        "id": "Yn4x2Fq57g_Y",
        "colab": {
          "base_uri": "https://localhost:8080/"
        },
        "outputId": "cd12e8d0-6e2a-472f-fde4-b29674156b14"
      },
      "execution_count": 2,
      "outputs": [
        {
          "output_type": "stream",
          "name": "stdout",
          "text": [
            "avijit\n",
            "abhishek\n"
          ]
        }
      ]
    },
    {
      "cell_type": "code",
      "source": [
        "[set(l).intersection(l1)]"
      ],
      "metadata": {
        "colab": {
          "base_uri": "https://localhost:8080/"
        },
        "id": "dcMZH9SS-VFb",
        "outputId": "f14b06d3-8511-4d7d-b94e-7ca421991de6"
      },
      "execution_count": 3,
      "outputs": [
        {
          "output_type": "execute_result",
          "data": {
            "text/plain": [
              "[{'abhishek', 'avijit'}]"
            ]
          },
          "metadata": {},
          "execution_count": 3
        }
      ]
    },
    {
      "cell_type": "code",
      "source": [
        "import itertools\n",
        "x=map(lambda a, b: a == b,itertools.product(l,l1))"
      ],
      "metadata": {
        "id": "NafnYUwm7grj"
      },
      "execution_count": 4,
      "outputs": []
    },
    {
      "cell_type": "code",
      "source": [
        "print(x)"
      ],
      "metadata": {
        "colab": {
          "base_uri": "https://localhost:8080/"
        },
        "id": "JXWpkohHBB7M",
        "outputId": "c9b8d6cc-6ef4-4b4a-d5cf-1d787d899587"
      },
      "execution_count": 5,
      "outputs": [
        {
          "output_type": "stream",
          "name": "stdout",
          "text": [
            "<map object at 0x7b73febc7b20>\n"
          ]
        }
      ]
    },
    {
      "cell_type": "code",
      "source": [
        "z=map(lambda x: map(lambda y: y == x, l1), l)"
      ],
      "metadata": {
        "id": "U8oBhI0V7gma"
      },
      "execution_count": 6,
      "outputs": []
    },
    {
      "cell_type": "code",
      "source": [
        "print(z)"
      ],
      "metadata": {
        "id": "3ccdCckd7go1"
      },
      "execution_count": null,
      "outputs": []
    },
    {
      "cell_type": "markdown",
      "source": [
        "11. Write a recursive function to calculate the factorial of a given positive integer.\n",
        "\n",
        "12. Implement a recursive function to compute the nth Fibonacci number."
      ],
      "metadata": {
        "id": "6khOR3mvEEYX"
      }
    },
    {
      "cell_type": "code",
      "source": [
        "def recur_factorial(n):\n",
        "   if n == 1:\n",
        "       return n\n",
        "   else:\n",
        "       return n*recur_factorial(n-1)"
      ],
      "metadata": {
        "id": "2uOeuVI87gho"
      },
      "execution_count": 8,
      "outputs": []
    },
    {
      "cell_type": "code",
      "source": [
        "recur_factorial(5)"
      ],
      "metadata": {
        "id": "pD3vUj617gfI",
        "colab": {
          "base_uri": "https://localhost:8080/"
        },
        "outputId": "61ae5aa5-33dc-464b-ec97-c7ff3aca1622"
      },
      "execution_count": 9,
      "outputs": [
        {
          "output_type": "execute_result",
          "data": {
            "text/plain": [
              "120"
            ]
          },
          "metadata": {},
          "execution_count": 9
        }
      ]
    },
    {
      "cell_type": "code",
      "source": [
        "def Fibonacci(n):\n",
        "    if n<= 0:\n",
        "        print(\"Incorrect input\")\n",
        "    elif n == 1:\n",
        "        return 0\n",
        "    elif n == 2:\n",
        "        return 1\n",
        "    else:\n",
        "        return Fibonacci(n-1)+Fibonacci(n-2)\n",
        "\n",
        "\n",
        "print(Fibonacci(8))"
      ],
      "metadata": {
        "id": "7VEFuc6i7gWh",
        "colab": {
          "base_uri": "https://localhost:8080/"
        },
        "outputId": "5b6b92c7-84ed-45ed-eee5-a0646b86ecd8"
      },
      "execution_count": 11,
      "outputs": [
        {
          "output_type": "stream",
          "name": "stdout",
          "text": [
            "13\n"
          ]
        }
      ]
    },
    {
      "cell_type": "markdown",
      "source": [
        "13. Create a recursive function to find the sum of all the elements in a given list."
      ],
      "metadata": {
        "id": "CenZxALVF_s-"
      }
    },
    {
      "cell_type": "code",
      "source": [
        "def getSum(piece):\n",
        "    if len(piece)==0:\n",
        "        return 0\n",
        "    else:\n",
        "        return piece[0] + getSum(piece[1:])\n",
        "getSum([1, 3, 4, 2, 5])"
      ],
      "metadata": {
        "id": "bzUxPngC7gUv",
        "colab": {
          "base_uri": "https://localhost:8080/"
        },
        "outputId": "c5d8c868-73f0-4576-ea6c-3d6d903943b6"
      },
      "execution_count": 13,
      "outputs": [
        {
          "output_type": "execute_result",
          "data": {
            "text/plain": [
              "15"
            ]
          },
          "metadata": {},
          "execution_count": 13
        }
      ]
    },
    {
      "cell_type": "markdown",
      "source": [
        "14. Write a recursive function to determine whether a given string is a palindrome."
      ],
      "metadata": {
        "id": "7sQrqWWuGoHs"
      }
    },
    {
      "cell_type": "code",
      "source": [
        "def isPalindrome(string):\n",
        "  if (string == string[::-1]) :\n",
        "    print( \"The string is a palindrome\")\n",
        "  else:\n",
        "    print(\"not\")\n"
      ],
      "metadata": {
        "id": "otSWwgqr7cln"
      },
      "execution_count": 18,
      "outputs": []
    },
    {
      "cell_type": "code",
      "source": [
        "isPalindrome(\"momo\")"
      ],
      "metadata": {
        "colab": {
          "base_uri": "https://localhost:8080/"
        },
        "id": "QD5WqEc1G9GJ",
        "outputId": "82a98184-f5aa-431d-b837-25680aa3f180"
      },
      "execution_count": 19,
      "outputs": [
        {
          "output_type": "stream",
          "name": "stdout",
          "text": [
            "not\n"
          ]
        }
      ]
    },
    {
      "cell_type": "code",
      "source": [
        "isPalindrome(\"mom\")"
      ],
      "metadata": {
        "colab": {
          "base_uri": "https://localhost:8080/"
        },
        "id": "6zMDzz2-HBUh",
        "outputId": "2411a946-1156-4334-fc1f-d862d883d32c"
      },
      "execution_count": 21,
      "outputs": [
        {
          "output_type": "stream",
          "name": "stdout",
          "text": [
            "The string is a palindrome\n"
          ]
        }
      ]
    },
    {
      "cell_type": "markdown",
      "source": [
        "15. Implement a recursive function to find the greatest common divisor (GCD) of two positive integers."
      ],
      "metadata": {
        "id": "gK4IwX5aHSc5"
      }
    },
    {
      "cell_type": "code",
      "source": [
        "def gcd(a,b):\n",
        "    if(b==0):\n",
        "        return a\n",
        "    else:\n",
        "        return gcd(b,a%b)\n",
        "a=int(input(\"Enter first number:\"))\n",
        "b=int(input(\"Enter second number:\"))\n",
        "GCD=gcd(a,b)\n",
        "print(\"GCD is: \",GCD)\n"
      ],
      "metadata": {
        "colab": {
          "base_uri": "https://localhost:8080/"
        },
        "id": "vRQXji53HPUt",
        "outputId": "39008bf1-c86b-4bee-ddf5-7cd3dbc1094b"
      },
      "execution_count": 23,
      "outputs": [
        {
          "output_type": "stream",
          "name": "stdout",
          "text": [
            "Enter first number:3454\n",
            "Enter second number:89\n",
            "GCD is:  1\n"
          ]
        }
      ]
    },
    {
      "cell_type": "code",
      "source": [],
      "metadata": {
        "id": "M0wsGeSkHnF5"
      },
      "execution_count": 23,
      "outputs": []
    }
  ]
}
{
  "nbformat": 4,
  "nbformat_minor": 0,
  "metadata": {
    "colab": {
      "provenance": []
    },
    "kernelspec": {
      "name": "python3",
      "display_name": "Python 3"
    },
    "language_info": {
      "name": "python"
    }
  },
  "cells": [
    {
      "cell_type": "markdown",
      "source": [
        "1.What is the primary goal of Object-Oriented Programming (OOP)?\n",
        "\n",
        "we can store hole data into a object and this is easy to use.\n"
      ],
      "metadata": {
        "id": "B163CgrsQtAx"
      }
    },
    {
      "cell_type": "markdown",
      "source": [
        "2.What is an object in Python?\n",
        "which contain attribute(information)\n",
        "and behaviar(action).\n",
        "\n",
        "ex. in email\n",
        "subeject ,mail  this is attribute\n",
        " send, sending error that is action"
      ],
      "metadata": {
        "id": "hT2a8ucR3DJM"
      }
    },
    {
      "cell_type": "markdown",
      "source": [
        "3.What is a class in Python?\n",
        "\n",
        " this is blueprint of object,\n",
        "contains attributes and methods(any define func.)"
      ],
      "metadata": {
        "id": "79-hLqns4I0u"
      }
    },
    {
      "cell_type": "markdown",
      "source": [
        "4.What are attributes and methods in a class?\n",
        "\n",
        "attribute means variables with information\n",
        "\n",
        "method is any functions."
      ],
      "metadata": {
        "id": "rqwSguQE4kij"
      }
    },
    {
      "cell_type": "markdown",
      "source": [
        "5.What is the difference between class variables and instance variables in Python?\n",
        "\n",
        "class variable we use when class is defined.\n",
        "instance variable can change any time\n",
        "\n",
        "class variable's value is common for every objects for class but instance variable's value change with the new object\n",
        "\n",
        "see codes"
      ],
      "metadata": {
        "id": "Ry_gQcy65HKL"
      }
    },
    {
      "cell_type": "code",
      "source": [
        "class emp:\n",
        "  company=\"tata motor\"\n",
        "  def __init__(self,x,y):\n",
        "    self.color=x\n",
        "    self.price=y\n",
        "  def show(self):\n",
        "    print(f\"color is {self.color} and price is {self.price}\")"
      ],
      "metadata": {
        "id": "fZpR6y_c4iF0"
      },
      "execution_count": null,
      "outputs": []
    },
    {
      "cell_type": "code",
      "source": [
        "e=emp(\"red\",700000)"
      ],
      "metadata": {
        "id": "plw8Bwe15-lE"
      },
      "execution_count": null,
      "outputs": []
    },
    {
      "cell_type": "code",
      "source": [
        "e.show()"
      ],
      "metadata": {
        "colab": {
          "base_uri": "https://localhost:8080/"
        },
        "id": "x9-ox_il6CCy",
        "outputId": "420eb814-073f-4e61-d962-687756d0e84b"
      },
      "execution_count": null,
      "outputs": [
        {
          "output_type": "stream",
          "name": "stdout",
          "text": [
            "color is red and price is 700000\n"
          ]
        }
      ]
    },
    {
      "cell_type": "code",
      "source": [
        "e.__dict__"
      ],
      "metadata": {
        "colab": {
          "base_uri": "https://localhost:8080/"
        },
        "id": "hauVKBzP6FuP",
        "outputId": "20708563-e5dc-4815-d3f9-61666a0bae40"
      },
      "execution_count": null,
      "outputs": [
        {
          "output_type": "execute_result",
          "data": {
            "text/plain": [
              "{'color': 'red', 'price': 700000}"
            ]
          },
          "metadata": {},
          "execution_count": 4
        }
      ]
    },
    {
      "cell_type": "code",
      "source": [
        "e.color=\"black\""
      ],
      "metadata": {
        "id": "8-frnAGP6I4_"
      },
      "execution_count": null,
      "outputs": []
    },
    {
      "cell_type": "code",
      "source": [
        "e.__dict__"
      ],
      "metadata": {
        "colab": {
          "base_uri": "https://localhost:8080/"
        },
        "id": "yzYdpuZo6L_A",
        "outputId": "6d8ca753-6b74-4788-d7fc-ae4dab730c21"
      },
      "execution_count": null,
      "outputs": [
        {
          "output_type": "execute_result",
          "data": {
            "text/plain": [
              "{'color': 'black', 'price': 700000}"
            ]
          },
          "metadata": {},
          "execution_count": 6
        }
      ]
    },
    {
      "cell_type": "code",
      "source": [
        "emp.company"
      ],
      "metadata": {
        "colab": {
          "base_uri": "https://localhost:8080/",
          "height": 35
        },
        "id": "Qn5R-ygg6NxP",
        "outputId": "88d38ace-fdeb-447c-b161-a589760db8bc"
      },
      "execution_count": null,
      "outputs": [
        {
          "output_type": "execute_result",
          "data": {
            "text/plain": [
              "'tata motor'"
            ],
            "application/vnd.google.colaboratory.intrinsic+json": {
              "type": "string"
            }
          },
          "metadata": {},
          "execution_count": 7
        }
      ]
    },
    {
      "cell_type": "code",
      "source": [
        "emp.company=\"ford motor\""
      ],
      "metadata": {
        "id": "_rmk8eYn6VpB"
      },
      "execution_count": null,
      "outputs": []
    },
    {
      "cell_type": "code",
      "source": [
        "emp.company"
      ],
      "metadata": {
        "colab": {
          "base_uri": "https://localhost:8080/",
          "height": 35
        },
        "id": "FjBjoARL6ZGx",
        "outputId": "75aab504-f2be-42dc-bda4-15b6229d9970"
      },
      "execution_count": null,
      "outputs": [
        {
          "output_type": "execute_result",
          "data": {
            "text/plain": [
              "'ford motor'"
            ],
            "application/vnd.google.colaboratory.intrinsic+json": {
              "type": "string"
            }
          },
          "metadata": {},
          "execution_count": 9
        }
      ]
    },
    {
      "cell_type": "code",
      "source": [
        "e.company"
      ],
      "metadata": {
        "colab": {
          "base_uri": "https://localhost:8080/",
          "height": 35
        },
        "id": "G-pymhJ_6aPR",
        "outputId": "98a48545-9c8e-43a8-b855-900ac2a8eb8f"
      },
      "execution_count": null,
      "outputs": [
        {
          "output_type": "execute_result",
          "data": {
            "text/plain": [
              "'ford motor'"
            ],
            "application/vnd.google.colaboratory.intrinsic+json": {
              "type": "string"
            }
          },
          "metadata": {},
          "execution_count": 10
        }
      ]
    },
    {
      "cell_type": "markdown",
      "source": [
        "6.What is the purpose of the self parameter in Python class methods?\n",
        "\n",
        "it pull the methods and refer the objects\n",
        "\n",
        "ex. self.name=name  we have created a object named \"obj\"\n",
        "so this became obj.name"
      ],
      "metadata": {
        "id": "Xe69128i7TBU"
      }
    },
    {
      "cell_type": "markdown",
      "source": [
        "7.For a library management system, you have to design the \"Book\" class with OOP\n",
        "principles in mind. The “Book” class will have following attributes:\n",
        "a. title: Represents the title of the book.\n",
        "b. author: Represents the author(s) of the book.\n",
        "c. isbn: Represents the ISBN (International Standard Book Number) of the book.\n",
        "d. publication_year: Represents the year of publication of the book.\n",
        "e. available_copies: Represents the number of copies available for checkout.\n",
        "The class will also include the following methods:\n",
        "a. check_out(self): Decrements the available copies by one if there are copies\n",
        "available for checkout.\n",
        "b. return_book(self): Increments the available copies by one when a book is\n",
        "returned.\n",
        "c. display_book_info(self): Displays the information about the book, including its\n",
        "attributes and the number of available copies."
      ],
      "metadata": {
        "id": "joYIt2Cn74Ww"
      }
    },
    {
      "cell_type": "code",
      "source": [
        "class book:\n",
        "  def __init__(self,title,author,ISBN,publication_year,available_copies):\n",
        "     self.title=title\n",
        "     self.author=author\n",
        "     self.ISBN=ISBN\n",
        "     self.publication_year=publication_year\n",
        "     self.available_copies=available_copies\n",
        "  def check_out(self,take):\n",
        "    self.take=take\n",
        "    dec=(self.available_copies-self.take)\n",
        "    print(dec)\n",
        "  def  return_book(self,ret):\n",
        "    self.ret=ret\n",
        "    inc=(self.available_copies-self.take)+self.ret\n",
        "    print(inc)\n",
        "  def display_book_info(self):\n",
        "    print(f\"book name  is {self.title} ,author is {self.author},ISBN NO is {self.ISBN},publication year is {self. publication_year} and available_copies {(self.available_copies-self.take)+self.ret}\" )"
      ],
      "metadata": {
        "id": "GOibaMSF6lng"
      },
      "execution_count": 46,
      "outputs": []
    },
    {
      "cell_type": "code",
      "source": [
        "b=book(\"ckt theory\",\"avijit chakraborty\",\"FGJHJ898\",\"2000\",100)"
      ],
      "metadata": {
        "id": "oI6dDKbtOzDy"
      },
      "execution_count": 51,
      "outputs": []
    },
    {
      "cell_type": "code",
      "source": [
        "b.check_out(1)"
      ],
      "metadata": {
        "colab": {
          "base_uri": "https://localhost:8080/"
        },
        "id": "NJ0zeLY2PLhI",
        "outputId": "6efb4de8-e890-4609-9af9-9ec29a287446"
      },
      "execution_count": 52,
      "outputs": [
        {
          "output_type": "stream",
          "name": "stdout",
          "text": [
            "99\n"
          ]
        }
      ]
    },
    {
      "cell_type": "code",
      "source": [
        "b.return_book(1)"
      ],
      "metadata": {
        "colab": {
          "base_uri": "https://localhost:8080/"
        },
        "id": "DXe4YN-iPVRp",
        "outputId": "986a6fa8-1fb5-4e12-b5d0-12d846b55fe2"
      },
      "execution_count": 53,
      "outputs": [
        {
          "output_type": "stream",
          "name": "stdout",
          "text": [
            "100\n"
          ]
        }
      ]
    },
    {
      "cell_type": "code",
      "source": [
        "b.display_book_info()"
      ],
      "metadata": {
        "colab": {
          "base_uri": "https://localhost:8080/"
        },
        "id": "OJ-1vpE_PchR",
        "outputId": "3f338e61-664f-4954-89c8-757db83a2746"
      },
      "execution_count": 54,
      "outputs": [
        {
          "output_type": "stream",
          "name": "stdout",
          "text": [
            "book name  is ckt theory ,author is avijit chakraborty,ISBN NO is FGJHJ898,publication year is 2000 and available_copies 100\n"
          ]
        }
      ]
    },
    {
      "cell_type": "markdown",
      "source": [
        "8.For a ticket booking system, you have to design the \"Ticket\" class with OOP\n",
        "principles in mind. The “Ticket” class should have the following attributes:\n",
        "a. ticket_id: Represents the unique identifier for the ticket.\n",
        "b. event_name: Represents the name of the event.\n",
        "c. event_date: Represents the date of the event.\n",
        "d. venue: Represents the venue of the event.\n",
        "e. seat_number: Represents the seat number associated with the ticket.\n",
        "f. price: Represents the price of the ticket.\n",
        "g. is_reserved: Represents the reservation status of the ticket.\n",
        "The class also includes the following methods:\n",
        "a. reserve_ticket(self): Marks the ticket as reserved if it is not already reserved.\n",
        "b. cancel_reservation(self): Cancels the reservation of the ticket if it is already\n",
        "reserved.\n",
        "c. display_ticket_info(self): Displays the information about the ticket, including its\n",
        "attributes and reservation status."
      ],
      "metadata": {
        "id": "-8NA2UkRRV90"
      }
    },
    {
      "cell_type": "code",
      "source": [
        "class ticket:\n",
        "  event_name=str(input(\"enter event_name: \"))\n",
        "  event_date=str(input(\"enter event_date: \"))\n",
        "  venue=str(input(\"enter venue: \"))\n",
        "  seat_number=int(input(\"enter seat_number: \"))\n",
        "  price=int(input(\"enter price: \"))\n",
        "  is_reserved=str(input(\"enter is_reserved: \"))\n",
        "  @staticmethod\n",
        "  def reserve_ticket():\n",
        "    if ticket.is_reserved==\"reserved\":\n",
        "      print(\"not reserved\")\n",
        "    else:\n",
        "      print(\"reserved\")\n",
        "  @staticmethod\n",
        "  def cancel_reservation():\n",
        "    if ticket.is_reserved==\"reserved\":\n",
        "      print(\"cancel reserved\")\n",
        "    else:\n",
        "      print(\"reserved\")\n",
        "  @classmethod\n",
        "  def display_ticket_info(cls):\n",
        "    if ticket.is_reserved==\"reserved\":\n",
        "     cls.is_reserved=\"not reserved and cancel reservation\"\n",
        "    else:\n",
        "       cls.is_reserved=\"reserved\"\n",
        "    print(f\"status is {cls.is_reserved}  ,event name is {cls.event_name},date is {cls.event_date},venue is {cls.venue},ticket no is {cls.seat_number},price is {cls.price}\")"
      ],
      "metadata": {
        "id": "cUl9FcuaQnIB",
        "colab": {
          "base_uri": "https://localhost:8080/"
        },
        "outputId": "cda7ce48-b8fb-484f-b1bd-992df8b6c94a"
      },
      "execution_count": null,
      "outputs": [
        {
          "name": "stdout",
          "output_type": "stream",
          "text": [
            "enter event_name: g20\n",
            "enter event_date: 20-09-2023\n",
            "enter venue: delhi\n",
            "enter seat_number: 12\n",
            "enter price: 8900\n",
            "enter is_reserved: arijit\n"
          ]
        }
      ]
    },
    {
      "cell_type": "code",
      "source": [
        "e=ticket()"
      ],
      "metadata": {
        "id": "4NKuoOks48ST"
      },
      "execution_count": null,
      "outputs": []
    },
    {
      "cell_type": "code",
      "source": [
        "e.reserve_ticket()"
      ],
      "metadata": {
        "colab": {
          "base_uri": "https://localhost:8080/"
        },
        "id": "pjblSJDu6Hwx",
        "outputId": "3dbb0c03-0c92-4637-b68e-e04e06315da3"
      },
      "execution_count": null,
      "outputs": [
        {
          "output_type": "stream",
          "name": "stdout",
          "text": [
            "reserved\n"
          ]
        }
      ]
    },
    {
      "cell_type": "code",
      "source": [
        "e.cancel_reservation()"
      ],
      "metadata": {
        "colab": {
          "base_uri": "https://localhost:8080/"
        },
        "id": "9qk2TUjYYmw0",
        "outputId": "8e351bc6-08c6-40d8-a800-a4cd6941bc6f"
      },
      "execution_count": null,
      "outputs": [
        {
          "output_type": "stream",
          "name": "stdout",
          "text": [
            "reserved\n"
          ]
        }
      ]
    },
    {
      "cell_type": "code",
      "source": [
        "e.display_ticket_info()"
      ],
      "metadata": {
        "colab": {
          "base_uri": "https://localhost:8080/"
        },
        "id": "1vU2hx106TXJ",
        "outputId": "30517988-458f-46e0-8316-b8b61fc52d6b"
      },
      "execution_count": null,
      "outputs": [
        {
          "output_type": "stream",
          "name": "stdout",
          "text": [
            "status is reserved  ,event namer is g20,date is 20-09-2023,venue is delhi,ticket no is 12,price is 8900\n"
          ]
        }
      ]
    },
    {
      "cell_type": "markdown",
      "source": [
        "9. You are creating a shopping cart for an e-commerce website. Using OOP to model\n",
        "the \"ShoppingCart\" functionality the class should contain following attributes and\n",
        "methods:\n",
        "a. items: Represents the list of items in the shopping cart.\n",
        "The class also includes the following methods:\n",
        "a. add_item(self, item): Adds an item to the shopping cart by appending it to the\n",
        "list of items.\n",
        "b. remove_item(self, item): Removes an item from the shopping cart if it exists in\n",
        "the list.\n",
        "c. view_cart(self): Displays the items currently present in the shopping cart.\n",
        "d. clear_cart(self): Clears all items from the shopping cart by reassigning an\n",
        "empty list to the items attribute."
      ],
      "metadata": {
        "id": "OpWV0XLaEmsI"
      }
    },
    {
      "cell_type": "code",
      "source": [
        "class ShoppingCart:\n",
        "  def __init__(self):\n",
        "     self.items=str(input(\"enter all grocary list: \"))\n",
        "     p=self.items.split(\",\")\n",
        "     print(p)\n",
        "  def add_item(self):\n",
        "    self.item=str(input(\"enter item name: \"))\n",
        "    self.items=self.items.split(\",\")+self.item.split(\",\")\n",
        "    print(self.items)\n",
        "  def remove_item(self):\n",
        "    self.item=(str(input(\"enter grocary: \")))\n",
        "    self.items.remove(self.item)\n",
        "    print(self.items)\n",
        "  def view_cart(self):\n",
        "    print(self.items)\n",
        "  def clear_cart(self):\n",
        "    self.items.clear()\n",
        "    print(self.items)\n"
      ],
      "metadata": {
        "id": "cAD_Cvr6a2pu"
      },
      "execution_count": 69,
      "outputs": []
    },
    {
      "cell_type": "code",
      "source": [
        "e=ShoppingCart()"
      ],
      "metadata": {
        "colab": {
          "base_uri": "https://localhost:8080/"
        },
        "id": "BElw4Li_JkPp",
        "outputId": "79a94697-705f-4160-b638-277a21a59cf3"
      },
      "execution_count": 70,
      "outputs": [
        {
          "output_type": "stream",
          "name": "stdout",
          "text": [
            "enter all grocary list: rice,oil,tea\n",
            "['rice', 'oil', 'tea']\n"
          ]
        }
      ]
    },
    {
      "cell_type": "code",
      "source": [
        "e.add_item()"
      ],
      "metadata": {
        "colab": {
          "base_uri": "https://localhost:8080/"
        },
        "id": "Z_Cmm_chdv5M",
        "outputId": "f547a864-8aa9-4d51-82b7-9198fdcb140a"
      },
      "execution_count": 71,
      "outputs": [
        {
          "output_type": "stream",
          "name": "stdout",
          "text": [
            "enter item name: sugar\n",
            "['rice', 'oil', 'tea', 'sugar']\n"
          ]
        }
      ]
    },
    {
      "cell_type": "code",
      "source": [
        "e.__dict__"
      ],
      "metadata": {
        "colab": {
          "base_uri": "https://localhost:8080/"
        },
        "id": "e635Z2bUzfJ0",
        "outputId": "f20786fa-c6a1-418d-97bb-98ed85b38b3c"
      },
      "execution_count": 72,
      "outputs": [
        {
          "output_type": "execute_result",
          "data": {
            "text/plain": [
              "{'items': ['rice', 'oil', 'tea', 'sugar'], 'item': 'sugar'}"
            ]
          },
          "metadata": {},
          "execution_count": 72
        }
      ]
    },
    {
      "cell_type": "code",
      "source": [
        "e.remove_item()"
      ],
      "metadata": {
        "colab": {
          "base_uri": "https://localhost:8080/"
        },
        "id": "P7h232EhiZS9",
        "outputId": "e0a53a6d-6ef8-49db-b75f-9474e0116e7f"
      },
      "execution_count": 73,
      "outputs": [
        {
          "output_type": "stream",
          "name": "stdout",
          "text": [
            "enter grocary: tea\n",
            "['rice', 'oil', 'sugar']\n"
          ]
        }
      ]
    },
    {
      "cell_type": "code",
      "source": [
        "e.view_cart()"
      ],
      "metadata": {
        "colab": {
          "base_uri": "https://localhost:8080/"
        },
        "id": "w6ZFnn4cz_Vb",
        "outputId": "83e0f48e-1cf2-4855-ef11-f3ce24126307"
      },
      "execution_count": 74,
      "outputs": [
        {
          "output_type": "stream",
          "name": "stdout",
          "text": [
            "['rice', 'oil', 'sugar']\n"
          ]
        }
      ]
    },
    {
      "cell_type": "code",
      "source": [
        "e.clear_cart()"
      ],
      "metadata": {
        "colab": {
          "base_uri": "https://localhost:8080/"
        },
        "id": "QA4W6Tp_4ic6",
        "outputId": "01bf9a4c-3252-4b0f-d727-49a200e5e8fb"
      },
      "execution_count": 75,
      "outputs": [
        {
          "output_type": "stream",
          "name": "stdout",
          "text": [
            "[]\n"
          ]
        }
      ]
    },
    {
      "cell_type": "markdown",
      "source": [
        "10. Imagine a school management system. You have to design the \"Student\" class using\n",
        "OOP concepts.The “Student” class has the following attributes:\n",
        "a. name: Represents the name of the student.\n",
        "b. age: Represents the age of the student.\n",
        "c. grade: Represents the grade or class of the student.\n",
        "d. student_id: Represents the unique identifier for the student.\n",
        "e. attendance: Represents the attendance record of the student.\n",
        "The class should also include the following methods:\n",
        "a. update_attendance(self, date, status): Updates the attendance record of the\n",
        "student for a given date with the provided status (e.g., present or absent).\n",
        "b. get_attendance(self): Returns the attendance record of the student.\n",
        "c. get_average_attendance(self): Calculates and returns the average\n",
        "attendance percentage of the student based on their attendance record."
      ],
      "metadata": {
        "id": "l0zxbRuD4nUQ"
      }
    },
    {
      "cell_type": "code",
      "source": [
        "class student:\n",
        "  def __init__(self,name,age,grade,student_id,attendance):\n",
        "    self.name=name\n",
        "    self.age=age\n",
        "    self.grade=grade\n",
        "    self.student_id=student_id\n",
        "    self.attendance=attendance\n",
        "  def update_attendance(self):\n",
        "    self.status=str(input(\"enter the status: \"))\n",
        "    self.date=str(input(\"enter the dates: \"))\n",
        "    self.status=self.status.split(\",\")\n",
        "    self.date=self.date.split(\",\")\n",
        "    x=0\n",
        "    for i in self.status:\n",
        "      if i==\"present\":\n",
        "       x +=1\n",
        "      else:\n",
        "        print(\"absent is not countable\")\n",
        "    print(x)\n",
        "  def get_attendance(self):\n",
        "    x=0\n",
        "    for i in self.status:\n",
        "      if i==\"present\":\n",
        "       x +=1\n",
        "      else:\n",
        "        pass\n",
        "    self.attendance=self.attendance+x\n",
        "    print(self.attendance)\n",
        "  def get_percentage_attendance(self):\n",
        "    total=40\n",
        "    per=((self.attendance)/total)*100\n",
        "    print(per,\"%\")\n",
        ""
      ],
      "metadata": {
        "id": "3bqWfwb-4lsi"
      },
      "execution_count": 224,
      "outputs": []
    },
    {
      "cell_type": "code",
      "source": [
        "name=str(input(\"enter the name: \"))\n",
        "age=int(input(\"enter the age: \"))\n",
        "grade=str(input(\"enter the grade: \"))\n",
        "student_id=str(input(\"enter the student_id: \"))\n",
        "attendance=int(input(\"enter the attendance: \"))\n",
        "\n",
        "e=student(name,age,grade,student_id,attendance)"
      ],
      "metadata": {
        "colab": {
          "base_uri": "https://localhost:8080/"
        },
        "id": "MispJUC26YPO",
        "outputId": "3f83bc11-2625-461b-f52c-48a0c294112d"
      },
      "execution_count": 225,
      "outputs": [
        {
          "name": "stdout",
          "output_type": "stream",
          "text": [
            "enter the name: arijit\n",
            "enter the age: 28\n",
            "enter the grade: A+\n",
            "enter the student_id: ASSS-233\n",
            "enter the attendance: 17\n"
          ]
        }
      ]
    },
    {
      "cell_type": "code",
      "source": [
        "e.__dict__"
      ],
      "metadata": {
        "colab": {
          "base_uri": "https://localhost:8080/"
        },
        "id": "Sbdlx7nT7RF0",
        "outputId": "2e1362b6-b924-487e-8fa7-37bb7cc3d981"
      },
      "execution_count": 226,
      "outputs": [
        {
          "output_type": "execute_result",
          "data": {
            "text/plain": [
              "{'name': 'arijit',\n",
              " 'age': 28,\n",
              " 'grade': 'A+',\n",
              " 'student_id': 'ASSS-233',\n",
              " 'attendance': 17}"
            ]
          },
          "metadata": {},
          "execution_count": 226
        }
      ]
    },
    {
      "cell_type": "code",
      "source": [
        "e.update_attendance()"
      ],
      "metadata": {
        "colab": {
          "base_uri": "https://localhost:8080/"
        },
        "id": "3JuScstL7a8x",
        "outputId": "9c1ee484-5d69-4b6a-f637-3b484d176659"
      },
      "execution_count": 227,
      "outputs": [
        {
          "output_type": "stream",
          "name": "stdout",
          "text": [
            "enter the status: present,present,absent\n",
            "enter the dates: 12th july,10th july,9th july\n",
            "absent is not countable\n",
            "2\n"
          ]
        }
      ]
    },
    {
      "cell_type": "code",
      "source": [
        "e.get_attendance()"
      ],
      "metadata": {
        "colab": {
          "base_uri": "https://localhost:8080/"
        },
        "id": "a35BwPuNknIo",
        "outputId": "2235dc06-c8f1-49f9-8195-64310333c0ea"
      },
      "execution_count": 228,
      "outputs": [
        {
          "output_type": "stream",
          "name": "stdout",
          "text": [
            "19\n"
          ]
        }
      ]
    },
    {
      "cell_type": "code",
      "source": [
        "e.get_percentage_attendance()"
      ],
      "metadata": {
        "colab": {
          "base_uri": "https://localhost:8080/"
        },
        "id": "fggLvRjSknE_",
        "outputId": "e76feb40-dc4f-4d1b-abb4-4a911e9811ca"
      },
      "execution_count": 230,
      "outputs": [
        {
          "output_type": "stream",
          "name": "stdout",
          "text": [
            "47.5 %\n"
          ]
        }
      ]
    },
    {
      "cell_type": "code",
      "source": [],
      "metadata": {
        "id": "ruaOenAqkm-_"
      },
      "execution_count": null,
      "outputs": []
    },
    {
      "cell_type": "code",
      "source": [
        "class student:\n",
        "  def update_attendance(self):\n",
        "    self.status=str(input(\"enter the status: \"))\n",
        "    self.date=str(input(\"enter the dates: \"))\n",
        "    self.status=self.status.split(\",\")\n",
        "    self.date=self.date.split(\",\")\n",
        "    x=0\n",
        "    for i in self.status:\n",
        "      if i==\"present\":\n",
        "       x +=1\n",
        "      else:\n",
        "        print(\"absent is not countable\")\n",
        "    print(x)\n",
        "  def get_attendance(self):\n",
        "    print(x)\n"
      ],
      "metadata": {
        "id": "Cjop3z9j7rSw"
      },
      "execution_count": 184,
      "outputs": []
    },
    {
      "cell_type": "code",
      "source": [
        "e=student()"
      ],
      "metadata": {
        "id": "vIb8at_h-dZQ"
      },
      "execution_count": 185,
      "outputs": []
    },
    {
      "cell_type": "code",
      "source": [
        "e.update_attendance()"
      ],
      "metadata": {
        "colab": {
          "base_uri": "https://localhost:8080/"
        },
        "id": "au95bz8y-hIw",
        "outputId": "b547d93f-3028-4a14-b4ee-1dab42e3b63e"
      },
      "execution_count": 186,
      "outputs": [
        {
          "output_type": "stream",
          "name": "stdout",
          "text": [
            "enter the status: present,absent,present\n",
            "enter the dates: 12-12-12,1-1-1,6-6-6\n",
            "absent is not countable\n",
            "2\n"
          ]
        }
      ]
    },
    {
      "cell_type": "code",
      "source": [
        "if \"present\" in self.status:\n",
        "      x=len(self.date)\n",
        "      print(\"new attendence total\",x)\n",
        "    else:\n",
        "      y=0\n",
        "      print(\"new attendence total\",(x+y))"
      ],
      "metadata": {
        "id": "IF0vRieEF0a7"
      },
      "execution_count": null,
      "outputs": []
    }
  ]
}